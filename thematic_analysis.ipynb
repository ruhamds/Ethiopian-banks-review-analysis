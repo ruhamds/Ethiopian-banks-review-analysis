{
 "cells": [
  {
   "cell_type": "markdown",
   "id": "5ac7fb95",
   "metadata": {},
   "source": [
    "#Import"
   ]
  },
  {
   "cell_type": "code",
   "execution_count": 1,
   "id": "f569e21b",
   "metadata": {},
   "outputs": [],
   "source": [
    "# Imports\n",
    "import pandas as pd\n",
    "import spacy\n",
    "import re\n",
    "from collections import Counter\n",
    "from tabulate import tabulate\n",
    "\n",
    "# Load spaCy model\n",
    "nlp = spacy.load('en_core_web_sm', disable=['parser', 'ner'])\n",
    "\n",
    "# Set display options\n",
    "pd.set_option('display.max_columns', None)\n",
    "pd.set_option('display.width', 1000)\n",
    "pd.set_option('display.max_colwidth', 50)"
   ]
  },
  {
   "cell_type": "markdown",
   "id": "a4fffc9d",
   "metadata": {},
   "source": [
    "#Load data"
   ]
  },
  {
   "cell_type": "code",
   "execution_count": 2,
   "id": "ca531ff5",
   "metadata": {},
   "outputs": [
    {
     "name": "stdout",
     "output_type": "stream",
     "text": [
      "Loaded 1200 reviews from reviews_with_sentiment.csv\n",
      "Unique banks: ['Bank of Abyssinia' 'Commercial Bank of Ethiopia' 'Dashen Bank']\n",
      "Reviews per bank:\n"
     ]
    },
    {
     "data": {
      "application/vnd.microsoft.datawrangler.viewer.v0+json": {
       "columns": [
        {
         "name": "bank",
         "rawType": "object",
         "type": "string"
        },
        {
         "name": "count",
         "rawType": "int64",
         "type": "integer"
        }
       ],
       "ref": "8664711b-f05b-4c04-9385-362b1b0f9afb",
       "rows": [
        [
         "Bank of Abyssinia",
         "400"
        ],
        [
         "Commercial Bank of Ethiopia",
         "400"
        ],
        [
         "Dashen Bank",
         "400"
        ]
       ],
       "shape": {
        "columns": 1,
        "rows": 3
       }
      },
      "text/html": [
       "<div>\n",
       "<style scoped>\n",
       "    .dataframe tbody tr th:only-of-type {\n",
       "        vertical-align: middle;\n",
       "    }\n",
       "\n",
       "    .dataframe tbody tr th {\n",
       "        vertical-align: top;\n",
       "    }\n",
       "\n",
       "    .dataframe thead th {\n",
       "        text-align: right;\n",
       "    }\n",
       "</style>\n",
       "<table border=\"1\" class=\"dataframe\">\n",
       "  <thead>\n",
       "    <tr style=\"text-align: right;\">\n",
       "      <th></th>\n",
       "      <th>count</th>\n",
       "    </tr>\n",
       "    <tr>\n",
       "      <th>bank</th>\n",
       "      <th></th>\n",
       "    </tr>\n",
       "  </thead>\n",
       "  <tbody>\n",
       "    <tr>\n",
       "      <th>Bank of Abyssinia</th>\n",
       "      <td>400</td>\n",
       "    </tr>\n",
       "    <tr>\n",
       "      <th>Commercial Bank of Ethiopia</th>\n",
       "      <td>400</td>\n",
       "    </tr>\n",
       "    <tr>\n",
       "      <th>Dashen Bank</th>\n",
       "      <td>400</td>\n",
       "    </tr>\n",
       "  </tbody>\n",
       "</table>\n",
       "</div>"
      ],
      "text/plain": [
       "                             count\n",
       "bank                              \n",
       "Bank of Abyssinia              400\n",
       "Commercial Bank of Ethiopia    400\n",
       "Dashen Bank                    400"
      ]
     },
     "metadata": {},
     "output_type": "display_data"
    }
   ],
   "source": [
    "def load_data(file_path='reviews_with_sentiment.csv'):\n",
    "    try:\n",
    "        df = pd.read_csv(file_path)\n",
    "        print(f\"Loaded {len(df)} reviews from {file_path}\")\n",
    "        print(\"Unique banks:\", df['bank'].unique())\n",
    "        print(\"Reviews per bank:\")\n",
    "        display(df['bank'].value_counts().to_frame())\n",
    "        return df\n",
    "    except FileNotFoundError:\n",
    "        print(f\"Error: {file_path} not found\")\n",
    "        return None\n",
    "\n",
    "df = load_data()\n",
    "if df is None:\n",
    "    raise SystemExit(\"Failed to load data\")"
   ]
  },
  {
   "cell_type": "markdown",
   "id": "f33f5c09",
   "metadata": {},
   "source": [
    "#Preprocessing Functions"
   ]
  },
  {
   "cell_type": "code",
   "execution_count": 3,
   "id": "707ff868",
   "metadata": {},
   "outputs": [],
   "source": [
    "def preprocess_text(text):\n",
    "    if not isinstance(text, str) or pd.isna(text):\n",
    "        return []\n",
    "    text = re.sub(r'[^\\w\\s]', '', text.lower())\n",
    "    doc = nlp(text)\n",
    "    tokens = [token.lemma_ for token in doc if not token.is_stop and not token.is_punct and len(token.lemma_) > 2]\n",
    "    return tokens\n",
    "\n",
    "def extract_bigrams(text):\n",
    "    if not isinstance(text, str) or pd.isna(text):\n",
    "        return []\n",
    "    doc = nlp(text.lower())\n",
    "    bigrams = []\n",
    "    for i in range(len(doc) - 1):\n",
    "        if not doc[i].is_stop and not doc[i+1].is_stop and not doc[i].is_punct and not doc[i+1].is_punct:\n",
    "            bigram = f\"{doc[i].lemma_} {doc[i+1].lemma_}\"\n",
    "            bigrams.append(bigram)\n",
    "    return bigrams"
   ]
  },
  {
   "cell_type": "markdown",
   "id": "d385042e",
   "metadata": {},
   "source": [
    "#Theme Definitions"
   ]
  },
  {
   "cell_type": "code",
   "execution_count": 4,
   "id": "d6fac9fc",
   "metadata": {},
   "outputs": [],
   "source": [
    "theme_keywords = {\n",
    "    'Account Access Issues': ['login', 'authentication', 'password', 'access', 'lock', 'error', 'fail'],\n",
    "    'Transaction Performance': ['transfer', 'slow', 'delay', 'payment', 'transaction', 'processing', 'crash'],\n",
    "    'User Interface & Experience': ['ui', 'interface', 'design', 'navigation', 'easy', 'friendly', 'confusing'],\n",
    "    'Customer Support': ['support', 'help', 'response', 'service', 'contact', 'ticket'],\n",
    "    'Feature Requests': ['feature', 'add', 'request', 'fingerprint', 'option', 'update']\n",
    "}\n",
    "\n",
    "def assign_themes(tokens, bigrams):\n",
    "    themes = []\n",
    "    bigram_text = ' ' + ' '.join(bigrams) + ' '\n",
    "    for theme, keywords in theme_keywords.items():\n",
    "        if any(keyword in tokens or f' {keyword} ' in bigram_text for keyword in keywords):\n",
    "            themes.append(theme)\n",
    "    return themes if themes else ['Other']"
   ]
  },
  {
   "cell_type": "markdown",
   "id": "4f5807e5",
   "metadata": {},
   "source": [
    "#Process Review"
   ]
  },
  {
   "cell_type": "code",
   "execution_count": 5,
   "id": "bc6ee746",
   "metadata": {},
   "outputs": [
    {
     "name": "stdout",
     "output_type": "stream",
     "text": [
      "Preprocessing reviews...\n",
      "Assigning themes...\n",
      "Reviews per bank after processing:\n"
     ]
    },
    {
     "data": {
      "application/vnd.microsoft.datawrangler.viewer.v0+json": {
       "columns": [
        {
         "name": "bank",
         "rawType": "object",
         "type": "string"
        },
        {
         "name": "count",
         "rawType": "int64",
         "type": "integer"
        }
       ],
       "ref": "f7437407-212c-4614-8d18-d7fca07c8bcc",
       "rows": [
        [
         "Bank of Abyssinia",
         "400"
        ],
        [
         "Commercial Bank of Ethiopia",
         "400"
        ],
        [
         "Dashen Bank",
         "400"
        ]
       ],
       "shape": {
        "columns": 1,
        "rows": 3
       }
      },
      "text/html": [
       "<div>\n",
       "<style scoped>\n",
       "    .dataframe tbody tr th:only-of-type {\n",
       "        vertical-align: middle;\n",
       "    }\n",
       "\n",
       "    .dataframe tbody tr th {\n",
       "        vertical-align: top;\n",
       "    }\n",
       "\n",
       "    .dataframe thead th {\n",
       "        text-align: right;\n",
       "    }\n",
       "</style>\n",
       "<table border=\"1\" class=\"dataframe\">\n",
       "  <thead>\n",
       "    <tr style=\"text-align: right;\">\n",
       "      <th></th>\n",
       "      <th>count</th>\n",
       "    </tr>\n",
       "    <tr>\n",
       "      <th>bank</th>\n",
       "      <th></th>\n",
       "    </tr>\n",
       "  </thead>\n",
       "  <tbody>\n",
       "    <tr>\n",
       "      <th>Bank of Abyssinia</th>\n",
       "      <td>400</td>\n",
       "    </tr>\n",
       "    <tr>\n",
       "      <th>Commercial Bank of Ethiopia</th>\n",
       "      <td>400</td>\n",
       "    </tr>\n",
       "    <tr>\n",
       "      <th>Dashen Bank</th>\n",
       "      <td>400</td>\n",
       "    </tr>\n",
       "  </tbody>\n",
       "</table>\n",
       "</div>"
      ],
      "text/plain": [
       "                             count\n",
       "bank                              \n",
       "Bank of Abyssinia              400\n",
       "Commercial Bank of Ethiopia    400\n",
       "Dashen Bank                    400"
      ]
     },
     "metadata": {},
     "output_type": "display_data"
    },
    {
     "name": "stdout",
     "output_type": "stream",
     "text": [
      "Sample data with themes:\n"
     ]
    },
    {
     "data": {
      "application/vnd.microsoft.datawrangler.viewer.v0+json": {
       "columns": [
        {
         "name": "index",
         "rawType": "int64",
         "type": "integer"
        },
        {
         "name": "bank",
         "rawType": "object",
         "type": "string"
        },
        {
         "name": "review",
         "rawType": "object",
         "type": "string"
        },
        {
         "name": "themes",
         "rawType": "object",
         "type": "unknown"
        }
       ],
       "ref": "397ede20-776a-4721-a690-81584f889bda",
       "rows": [
        [
         "0",
         "Bank of Abyssinia",
         "This app is a joke. It crashes more than it works, takes forever to load, and half the features are just decorative at this point. Can’t log in, can’t transfer money, can’t even check my balance without it bugging out. To the developer: Are you actually trying to make this work, or is this some kind of social experiment to test our patience? Did you build this in your sleep? Because it definitely looks like it. If this is your idea of a functional app, maybe consider a different career path🙏",
         "['Transaction Performance', 'Feature Requests']"
        ],
        [
         "1",
         "Bank of Abyssinia",
         "Hello, I’m facing a problem with the BOA Mobile app. Every time I enter my phone number and password, the app crashes and shows an error that says “BoaMobile closed because this app has a bug.” I tried updating, reinstalling, and clearing cache, but nothing worked. Please fix this bug in the next update. I really need access to my account. Thank you.",
         "['Account Access Issues', 'Transaction Performance', 'Feature Requests']"
        ],
        [
         "2",
         "Bank of Abyssinia",
         "It keeps showing this pop up to turn off developer options even tho it's off! I had to turn on and then off to make it work! This is a horrible experience and needs a fix asap! Plus kinda slow.",
         "['Transaction Performance', 'Feature Requests']"
        ],
        [
         "3",
         "Bank of Abyssinia",
         "Edit: New bug, app not letting me type in my otp codes. Shameful Why does this app not allow me to use it while having developer options on? Did y'all consider that I might, perhaps, be an actual developer? Why am I expected to toggle the option on and off just to bank (restarting my phone when I do)? Why is the message labled as somthing that will \"smoothen\" the experience? This is like the most \"security consultant\" thing to implement in an app. Please invest in actual security, not this mess.",
         "['Feature Requests']"
        ],
        [
         "4",
         "Bank of Abyssinia",
         "i entered incorrect security question by mistake boa app lock pin forever, why is there no other options? ?? i contacted different branchs more then 4times but they didn't able to solve this issue .",
         "['Account Access Issues', 'Customer Support', 'Feature Requests']"
        ],
        [
         "5",
         "Bank of Abyssinia",
         "I don't know what is wrong with BOA as a bank in general. It's been going backwards since last year or so. The app is a disaster to use in every possible way. Not stable to log in and very slow to perform transactions, couldn't take a screenshot (or can't even find the pictures even using its save screenshot option). Most of the time, it fails to perform transactions and so on. Simply, it's the worst!",
         "['Account Access Issues', 'Transaction Performance', 'Feature Requests']"
        ],
        [
         "6",
         "Bank of Abyssinia",
         "What's wrong with App. this days? it doesn't working properly. 1) it's VERY SLOW & doesn't open. it's very Annoying. 2) most of the time it says repeatedly Please try it again or try it later but again and again it doesn't open or work. 3) repeatedly it says something went wrong then it off the screen. I've updated the App. when it needed but nothing changed. 👉PLEASE if it has some issues with the App. Please fix it otherwise I'm going to uninstall it.",
         "['Transaction Performance', 'Feature Requests']"
        ],
        [
         "7",
         "Bank of Abyssinia",
         "I’m giving this app one star because there are no options below that. My experience has been incredibly frustrating due to the extremely long loading times, and the app even closes automatically at times. People choose mobile banking for its convenience, but this app is far too time-consuming, making it the worst I’ve used. I hope improvements are made to enhance the user experience.",
         "['Feature Requests']"
        ],
        [
         "8",
         "Bank of Abyssinia",
         "I have a fitayah account, a type of interest free account, and because their system is unable to process anything for people like me I can't see any of my accounts in the account list on any transaction, although I can see it when performing security actions or checking my balance, as such this app is as useless to me as the previous one. Unbelievable",
         "['Transaction Performance']"
        ],
        [
         "9",
         "Bank of Abyssinia",
         "Worst App ever. Totally unreliable. And it didn't work at all for the last 4 months.",
         "['Other']"
        ]
       ],
       "shape": {
        "columns": 3,
        "rows": 10
       }
      },
      "text/html": [
       "<div>\n",
       "<style scoped>\n",
       "    .dataframe tbody tr th:only-of-type {\n",
       "        vertical-align: middle;\n",
       "    }\n",
       "\n",
       "    .dataframe tbody tr th {\n",
       "        vertical-align: top;\n",
       "    }\n",
       "\n",
       "    .dataframe thead th {\n",
       "        text-align: right;\n",
       "    }\n",
       "</style>\n",
       "<table border=\"1\" class=\"dataframe\">\n",
       "  <thead>\n",
       "    <tr style=\"text-align: right;\">\n",
       "      <th></th>\n",
       "      <th>bank</th>\n",
       "      <th>review</th>\n",
       "      <th>themes</th>\n",
       "    </tr>\n",
       "  </thead>\n",
       "  <tbody>\n",
       "    <tr>\n",
       "      <th>0</th>\n",
       "      <td>Bank of Abyssinia</td>\n",
       "      <td>This app is a joke. It crashes more than it wo...</td>\n",
       "      <td>[Transaction Performance, Feature Requests]</td>\n",
       "    </tr>\n",
       "    <tr>\n",
       "      <th>1</th>\n",
       "      <td>Bank of Abyssinia</td>\n",
       "      <td>Hello, I’m facing a problem with the BOA Mobil...</td>\n",
       "      <td>[Account Access Issues, Transaction Performanc...</td>\n",
       "    </tr>\n",
       "    <tr>\n",
       "      <th>2</th>\n",
       "      <td>Bank of Abyssinia</td>\n",
       "      <td>It keeps showing this pop up to turn off devel...</td>\n",
       "      <td>[Transaction Performance, Feature Requests]</td>\n",
       "    </tr>\n",
       "    <tr>\n",
       "      <th>3</th>\n",
       "      <td>Bank of Abyssinia</td>\n",
       "      <td>Edit: New bug, app not letting me type in my o...</td>\n",
       "      <td>[Feature Requests]</td>\n",
       "    </tr>\n",
       "    <tr>\n",
       "      <th>4</th>\n",
       "      <td>Bank of Abyssinia</td>\n",
       "      <td>i entered incorrect security question by mista...</td>\n",
       "      <td>[Account Access Issues, Customer Support, Feat...</td>\n",
       "    </tr>\n",
       "    <tr>\n",
       "      <th>5</th>\n",
       "      <td>Bank of Abyssinia</td>\n",
       "      <td>I don't know what is wrong with BOA as a bank ...</td>\n",
       "      <td>[Account Access Issues, Transaction Performanc...</td>\n",
       "    </tr>\n",
       "    <tr>\n",
       "      <th>6</th>\n",
       "      <td>Bank of Abyssinia</td>\n",
       "      <td>What's wrong with App. this days? it doesn't w...</td>\n",
       "      <td>[Transaction Performance, Feature Requests]</td>\n",
       "    </tr>\n",
       "    <tr>\n",
       "      <th>7</th>\n",
       "      <td>Bank of Abyssinia</td>\n",
       "      <td>I’m giving this app one star because there are...</td>\n",
       "      <td>[Feature Requests]</td>\n",
       "    </tr>\n",
       "    <tr>\n",
       "      <th>8</th>\n",
       "      <td>Bank of Abyssinia</td>\n",
       "      <td>I have a fitayah account, a type of interest f...</td>\n",
       "      <td>[Transaction Performance]</td>\n",
       "    </tr>\n",
       "    <tr>\n",
       "      <th>9</th>\n",
       "      <td>Bank of Abyssinia</td>\n",
       "      <td>Worst App ever. Totally unreliable. And it did...</td>\n",
       "      <td>[Other]</td>\n",
       "    </tr>\n",
       "  </tbody>\n",
       "</table>\n",
       "</div>"
      ],
      "text/plain": [
       "                bank                                             review                                             themes\n",
       "0  Bank of Abyssinia  This app is a joke. It crashes more than it wo...        [Transaction Performance, Feature Requests]\n",
       "1  Bank of Abyssinia  Hello, I’m facing a problem with the BOA Mobil...  [Account Access Issues, Transaction Performanc...\n",
       "2  Bank of Abyssinia  It keeps showing this pop up to turn off devel...        [Transaction Performance, Feature Requests]\n",
       "3  Bank of Abyssinia  Edit: New bug, app not letting me type in my o...                                 [Feature Requests]\n",
       "4  Bank of Abyssinia  i entered incorrect security question by mista...  [Account Access Issues, Customer Support, Feat...\n",
       "5  Bank of Abyssinia  I don't know what is wrong with BOA as a bank ...  [Account Access Issues, Transaction Performanc...\n",
       "6  Bank of Abyssinia  What's wrong with App. this days? it doesn't w...        [Transaction Performance, Feature Requests]\n",
       "7  Bank of Abyssinia  I’m giving this app one star because there are...                                 [Feature Requests]\n",
       "8  Bank of Abyssinia  I have a fitayah account, a type of interest f...                          [Transaction Performance]\n",
       "9  Bank of Abyssinia  Worst App ever. Totally unreliable. And it did...                                            [Other]"
      ]
     },
     "metadata": {},
     "output_type": "display_data"
    }
   ],
   "source": [
    "print(\"Preprocessing reviews...\")\n",
    "df['tokens'] = df['review'].apply(preprocess_text)\n",
    "df['bigrams'] = df['review'].apply(extract_bigrams)\n",
    "print(\"Assigning themes...\")\n",
    "df['themes'] = df.apply(lambda row: assign_themes(row['tokens'], row['bigrams']), axis=1)\n",
    "print(\"Reviews per bank after processing:\")\n",
    "display(df['bank'].value_counts().to_frame())\n",
    "print(\"Sample data with themes:\")\n",
    "display(df[['bank', 'review', 'themes']].head(10))"
   ]
  },
  {
   "cell_type": "markdown",
   "id": "6f9349f6",
   "metadata": {},
   "source": [
    "#Keyword Summary"
   ]
  },
  {
   "cell_type": "code",
   "execution_count": 7,
   "id": "0d2537a9",
   "metadata": {},
   "outputs": [
    {
     "name": "stdout",
     "output_type": "stream",
     "text": [
      "Keyword summary saved to keyword_summary.txt\n",
      "\n",
      "Sample keyword summary:\n",
      "\n",
      "Bank of Abyssinia:\n",
      "Top Keywords: [('app', 356), ('not', 172), ('work', 129), ('bank', 82), ('update', 74)]\n",
      "Top Bigrams: [('mobile banking', 42), ('developer option', 29), ('banking app', 28), ('bad app', 19), ('👎 👎', 15)]\n",
      "\n",
      "Commercial Bank of Ethiopia:\n",
      "Top Keywords: [('app', 372), ('not', 194), ('transaction', 139), ('transfer', 112), ('work', 107)]\n",
      "Top Bigrams: [('good app', 25), ('mobile banking', 22), ('developer option', 21), ('transfer money', 19), ('transaction history', 18)]\n",
      "\n",
      "Dashen Bank:\n",
      "Top Keywords: [('app', 221), ('dashen', 102), ('good', 92), ('bank', 78), ('super', 74)]\n",
      "Top Bigrams: [('dashen bank', 57), ('super app', 46), ('dashen super', 22), ('good app', 21), ('mobile banking', 19)]\n"
     ]
    }
   ],
   "source": [
    "keyword_summary = {}\n",
    "for bank in df['bank'].unique():\n",
    "    bank_reviews = df[df['bank'] == bank]\n",
    "    all_tokens = [token for tokens in bank_reviews['tokens'] for token in tokens]\n",
    "    all_bigrams = [bigram for bigrams in bank_reviews['bigrams'] for bigram in bigrams]\n",
    "    top_tokens = Counter(all_tokens).most_common(10)\n",
    "    top_bigrams = Counter(all_bigrams).most_common(10)\n",
    "    keyword_summary[bank] = {'top_keywords': top_tokens, 'top_bigrams': top_bigrams}\n",
    "\n",
    "\n",
    "with open('keyword_summary.txt', 'w', encoding='utf-8') as f:\n",
    "    for bank, summary in keyword_summary.items():\n",
    "        f.write(f\"\\n{bank}:\\n\")\n",
    "        f.write(\"Top Keywords:\\n\")\n",
    "        for keyword, count in summary['top_keywords']:\n",
    "            f.write(f\"  {keyword}: {count}\\n\")\n",
    "        f.write(\"Top Bigrams:\\n\")\n",
    "        for bigram, count in summary['top_bigrams']:\n",
    "            f.write(f\"  {bigram}: {count}\\n\")\n",
    "\n",
    "\n",
    "print(\"Keyword summary saved to keyword_summary.txt\")\n",
    "print(\"\\nSample keyword summary:\")\n",
    "for bank, summary in keyword_summary.items():\n",
    "    print(f\"\\n{bank}:\")\n",
    "    print(\"Top Keywords:\", summary['top_keywords'][:5])\n",
    "    print(\"Top Bigrams:\", summary['top_bigrams'][:5])"
   ]
  },
  {
   "cell_type": "markdown",
   "id": "3e2bd1d1",
   "metadata": {},
   "source": [
    "#Theme Distribution"
   ]
  },
  {
   "cell_type": "code",
   "execution_count": 8,
   "id": "0a0cbd5f",
   "metadata": {},
   "outputs": [
    {
     "name": "stdout",
     "output_type": "stream",
     "text": [
      "\n",
      "Theme Distribution by Bank:\n",
      "\n",
      "Bank of Abyssinia:\n"
     ]
    },
    {
     "data": {
      "application/vnd.microsoft.datawrangler.viewer.v0+json": {
       "columns": [
        {
         "name": "index",
         "rawType": "int64",
         "type": "integer"
        },
        {
         "name": "Count",
         "rawType": "object",
         "type": "string"
        },
        {
         "name": "count",
         "rawType": "int64",
         "type": "integer"
        }
       ],
       "ref": "48c6ceba-f83f-4ca3-9bbb-0e411f1e4cb1",
       "rows": [
        [
         "0",
         "Other",
         "166"
        ],
        [
         "1",
         "Feature Requests",
         "108"
        ],
        [
         "2",
         "Transaction Performance",
         "105"
        ],
        [
         "3",
         "Account Access Issues",
         "51"
        ],
        [
         "4",
         "User Interface & Experience",
         "33"
        ],
        [
         "5",
         "Customer Support",
         "30"
        ]
       ],
       "shape": {
        "columns": 2,
        "rows": 6
       }
      },
      "text/html": [
       "<div>\n",
       "<style scoped>\n",
       "    .dataframe tbody tr th:only-of-type {\n",
       "        vertical-align: middle;\n",
       "    }\n",
       "\n",
       "    .dataframe tbody tr th {\n",
       "        vertical-align: top;\n",
       "    }\n",
       "\n",
       "    .dataframe thead th {\n",
       "        text-align: right;\n",
       "    }\n",
       "</style>\n",
       "<table border=\"1\" class=\"dataframe\">\n",
       "  <thead>\n",
       "    <tr style=\"text-align: right;\">\n",
       "      <th></th>\n",
       "      <th>Count</th>\n",
       "      <th>count</th>\n",
       "    </tr>\n",
       "  </thead>\n",
       "  <tbody>\n",
       "    <tr>\n",
       "      <th>0</th>\n",
       "      <td>Other</td>\n",
       "      <td>166</td>\n",
       "    </tr>\n",
       "    <tr>\n",
       "      <th>1</th>\n",
       "      <td>Feature Requests</td>\n",
       "      <td>108</td>\n",
       "    </tr>\n",
       "    <tr>\n",
       "      <th>2</th>\n",
       "      <td>Transaction Performance</td>\n",
       "      <td>105</td>\n",
       "    </tr>\n",
       "    <tr>\n",
       "      <th>3</th>\n",
       "      <td>Account Access Issues</td>\n",
       "      <td>51</td>\n",
       "    </tr>\n",
       "    <tr>\n",
       "      <th>4</th>\n",
       "      <td>User Interface &amp; Experience</td>\n",
       "      <td>33</td>\n",
       "    </tr>\n",
       "    <tr>\n",
       "      <th>5</th>\n",
       "      <td>Customer Support</td>\n",
       "      <td>30</td>\n",
       "    </tr>\n",
       "  </tbody>\n",
       "</table>\n",
       "</div>"
      ],
      "text/plain": [
       "                         Count  count\n",
       "0                        Other    166\n",
       "1             Feature Requests    108\n",
       "2      Transaction Performance    105\n",
       "3        Account Access Issues     51\n",
       "4  User Interface & Experience     33\n",
       "5             Customer Support     30"
      ]
     },
     "metadata": {},
     "output_type": "display_data"
    },
    {
     "name": "stdout",
     "output_type": "stream",
     "text": [
      "\n",
      "Commercial Bank of Ethiopia:\n"
     ]
    },
    {
     "data": {
      "application/vnd.microsoft.datawrangler.viewer.v0+json": {
       "columns": [
        {
         "name": "index",
         "rawType": "int64",
         "type": "integer"
        },
        {
         "name": "Count",
         "rawType": "object",
         "type": "string"
        },
        {
         "name": "count",
         "rawType": "int64",
         "type": "integer"
        }
       ],
       "ref": "365244e4-38ae-4f9e-b466-ba2e782599db",
       "rows": [
        [
         "0",
         "Transaction Performance",
         "178"
        ],
        [
         "1",
         "Feature Requests",
         "159"
        ],
        [
         "2",
         "Account Access Issues",
         "83"
        ],
        [
         "3",
         "Other",
         "82"
        ],
        [
         "4",
         "User Interface & Experience",
         "64"
        ],
        [
         "5",
         "Customer Support",
         "58"
        ]
       ],
       "shape": {
        "columns": 2,
        "rows": 6
       }
      },
      "text/html": [
       "<div>\n",
       "<style scoped>\n",
       "    .dataframe tbody tr th:only-of-type {\n",
       "        vertical-align: middle;\n",
       "    }\n",
       "\n",
       "    .dataframe tbody tr th {\n",
       "        vertical-align: top;\n",
       "    }\n",
       "\n",
       "    .dataframe thead th {\n",
       "        text-align: right;\n",
       "    }\n",
       "</style>\n",
       "<table border=\"1\" class=\"dataframe\">\n",
       "  <thead>\n",
       "    <tr style=\"text-align: right;\">\n",
       "      <th></th>\n",
       "      <th>Count</th>\n",
       "      <th>count</th>\n",
       "    </tr>\n",
       "  </thead>\n",
       "  <tbody>\n",
       "    <tr>\n",
       "      <th>0</th>\n",
       "      <td>Transaction Performance</td>\n",
       "      <td>178</td>\n",
       "    </tr>\n",
       "    <tr>\n",
       "      <th>1</th>\n",
       "      <td>Feature Requests</td>\n",
       "      <td>159</td>\n",
       "    </tr>\n",
       "    <tr>\n",
       "      <th>2</th>\n",
       "      <td>Account Access Issues</td>\n",
       "      <td>83</td>\n",
       "    </tr>\n",
       "    <tr>\n",
       "      <th>3</th>\n",
       "      <td>Other</td>\n",
       "      <td>82</td>\n",
       "    </tr>\n",
       "    <tr>\n",
       "      <th>4</th>\n",
       "      <td>User Interface &amp; Experience</td>\n",
       "      <td>64</td>\n",
       "    </tr>\n",
       "    <tr>\n",
       "      <th>5</th>\n",
       "      <td>Customer Support</td>\n",
       "      <td>58</td>\n",
       "    </tr>\n",
       "  </tbody>\n",
       "</table>\n",
       "</div>"
      ],
      "text/plain": [
       "                         Count  count\n",
       "0      Transaction Performance    178\n",
       "1             Feature Requests    159\n",
       "2        Account Access Issues     83\n",
       "3                        Other     82\n",
       "4  User Interface & Experience     64\n",
       "5             Customer Support     58"
      ]
     },
     "metadata": {},
     "output_type": "display_data"
    },
    {
     "name": "stdout",
     "output_type": "stream",
     "text": [
      "\n",
      "Dashen Bank:\n"
     ]
    },
    {
     "data": {
      "application/vnd.microsoft.datawrangler.viewer.v0+json": {
       "columns": [
        {
         "name": "index",
         "rawType": "int64",
         "type": "integer"
        },
        {
         "name": "Count",
         "rawType": "object",
         "type": "string"
        },
        {
         "name": "count",
         "rawType": "int64",
         "type": "integer"
        }
       ],
       "ref": "5effc269-a18b-4adc-86a0-533cf76aa30e",
       "rows": [
        [
         "0",
         "Other",
         "251"
        ],
        [
         "1",
         "User Interface & Experience",
         "76"
        ],
        [
         "2",
         "Transaction Performance",
         "61"
        ],
        [
         "3",
         "Feature Requests",
         "58"
        ],
        [
         "4",
         "Customer Support",
         "28"
        ],
        [
         "5",
         "Account Access Issues",
         "12"
        ]
       ],
       "shape": {
        "columns": 2,
        "rows": 6
       }
      },
      "text/html": [
       "<div>\n",
       "<style scoped>\n",
       "    .dataframe tbody tr th:only-of-type {\n",
       "        vertical-align: middle;\n",
       "    }\n",
       "\n",
       "    .dataframe tbody tr th {\n",
       "        vertical-align: top;\n",
       "    }\n",
       "\n",
       "    .dataframe thead th {\n",
       "        text-align: right;\n",
       "    }\n",
       "</style>\n",
       "<table border=\"1\" class=\"dataframe\">\n",
       "  <thead>\n",
       "    <tr style=\"text-align: right;\">\n",
       "      <th></th>\n",
       "      <th>Count</th>\n",
       "      <th>count</th>\n",
       "    </tr>\n",
       "  </thead>\n",
       "  <tbody>\n",
       "    <tr>\n",
       "      <th>0</th>\n",
       "      <td>Other</td>\n",
       "      <td>251</td>\n",
       "    </tr>\n",
       "    <tr>\n",
       "      <th>1</th>\n",
       "      <td>User Interface &amp; Experience</td>\n",
       "      <td>76</td>\n",
       "    </tr>\n",
       "    <tr>\n",
       "      <th>2</th>\n",
       "      <td>Transaction Performance</td>\n",
       "      <td>61</td>\n",
       "    </tr>\n",
       "    <tr>\n",
       "      <th>3</th>\n",
       "      <td>Feature Requests</td>\n",
       "      <td>58</td>\n",
       "    </tr>\n",
       "    <tr>\n",
       "      <th>4</th>\n",
       "      <td>Customer Support</td>\n",
       "      <td>28</td>\n",
       "    </tr>\n",
       "    <tr>\n",
       "      <th>5</th>\n",
       "      <td>Account Access Issues</td>\n",
       "      <td>12</td>\n",
       "    </tr>\n",
       "  </tbody>\n",
       "</table>\n",
       "</div>"
      ],
      "text/plain": [
       "                         Count  count\n",
       "0                        Other    251\n",
       "1  User Interface & Experience     76\n",
       "2      Transaction Performance     61\n",
       "3             Feature Requests     58\n",
       "4             Customer Support     28\n",
       "5        Account Access Issues     12"
      ]
     },
     "metadata": {},
     "output_type": "display_data"
    }
   ],
   "source": [
    "print(\"\\nTheme Distribution by Bank:\")\n",
    "for bank in df['bank'].unique():\n",
    "    bank_themes = df[df['bank'] == bank]['themes'].explode().value_counts()\n",
    "    print(f\"\\n{bank}:\")\n",
    "    display(bank_themes.reset_index().rename(columns={'index': 'Theme', 'themes': 'Count'}))"
   ]
  },
  {
   "cell_type": "markdown",
   "id": "03886694",
   "metadata": {},
   "source": [
    "#Save results"
   ]
  },
  {
   "cell_type": "code",
   "execution_count": 12,
   "id": "da143147",
   "metadata": {},
   "outputs": [
    {
     "name": "stdout",
     "output_type": "stream",
     "text": [
      "Saved results to reviews_with_themes.csv (1200 rows)\n",
      "\n",
      "Reviews per bank in reviews_with_themes.csv:\n"
     ]
    },
    {
     "data": {
      "application/vnd.microsoft.datawrangler.viewer.v0+json": {
       "columns": [
        {
         "name": "bank",
         "rawType": "object",
         "type": "string"
        },
        {
         "name": "count",
         "rawType": "int64",
         "type": "integer"
        }
       ],
       "ref": "f7936689-0ae8-4457-9f7d-60d292b8ea20",
       "rows": [
        [
         "Bank of Abyssinia",
         "400"
        ],
        [
         "Commercial Bank of Ethiopia",
         "400"
        ],
        [
         "Dashen Bank",
         "400"
        ]
       ],
       "shape": {
        "columns": 1,
        "rows": 3
       }
      },
      "text/html": [
       "<div>\n",
       "<style scoped>\n",
       "    .dataframe tbody tr th:only-of-type {\n",
       "        vertical-align: middle;\n",
       "    }\n",
       "\n",
       "    .dataframe tbody tr th {\n",
       "        vertical-align: top;\n",
       "    }\n",
       "\n",
       "    .dataframe thead th {\n",
       "        text-align: right;\n",
       "    }\n",
       "</style>\n",
       "<table border=\"1\" class=\"dataframe\">\n",
       "  <thead>\n",
       "    <tr style=\"text-align: right;\">\n",
       "      <th></th>\n",
       "      <th>count</th>\n",
       "    </tr>\n",
       "    <tr>\n",
       "      <th>bank</th>\n",
       "      <th></th>\n",
       "    </tr>\n",
       "  </thead>\n",
       "  <tbody>\n",
       "    <tr>\n",
       "      <th>Bank of Abyssinia</th>\n",
       "      <td>400</td>\n",
       "    </tr>\n",
       "    <tr>\n",
       "      <th>Commercial Bank of Ethiopia</th>\n",
       "      <td>400</td>\n",
       "    </tr>\n",
       "    <tr>\n",
       "      <th>Dashen Bank</th>\n",
       "      <td>400</td>\n",
       "    </tr>\n",
       "  </tbody>\n",
       "</table>\n",
       "</div>"
      ],
      "text/plain": [
       "                             count\n",
       "bank                              \n",
       "Bank of Abyssinia              400\n",
       "Commercial Bank of Ethiopia    400\n",
       "Dashen Bank                    400"
      ]
     },
     "metadata": {},
     "output_type": "display_data"
    }
   ],
   "source": [
    "\n",
    "output_df = df[['review_id', 'bank', 'review', 'sentiment_label', 'sentiment_score', 'themes']]\n",
    "output_df.to_csv('reviews_with_themes.csv', index=False)\n",
    "print(f\"Saved results to reviews_with_themes.csv ({len(output_df)} rows)\")\n",
    "\n",
    "# Verify saved file\n",
    "saved_df = pd.read_csv('reviews_with_themes.csv')\n",
    "print(\"\\nReviews per bank in reviews_with_themes.csv:\")\n",
    "display(saved_df['bank'].value_counts().to_frame())"
   ]
  },
  {
   "cell_type": "code",
   "execution_count": null,
   "id": "c7588b2a",
   "metadata": {},
   "outputs": [],
   "source": []
  }
 ],
 "metadata": {
  "kernelspec": {
   "display_name": "venv",
   "language": "python",
   "name": "python3"
  },
  "language_info": {
   "codemirror_mode": {
    "name": "ipython",
    "version": 3
   },
   "file_extension": ".py",
   "mimetype": "text/x-python",
   "name": "python",
   "nbconvert_exporter": "python",
   "pygments_lexer": "ipython3",
   "version": "3.10.0"
  }
 },
 "nbformat": 4,
 "nbformat_minor": 5
}
