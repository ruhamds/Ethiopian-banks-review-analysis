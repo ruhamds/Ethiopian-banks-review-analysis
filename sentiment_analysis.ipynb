{
 "cells": [
  {
   "cell_type": "markdown",
   "id": "d361d149",
   "metadata": {},
   "source": [
    "#import"
   ]
  },
  {
   "cell_type": "code",
   "execution_count": 3,
   "id": "08dea585",
   "metadata": {},
   "outputs": [],
   "source": [
    "# Imports\n",
    "import pandas as pd\n",
    "import numpy as np\n",
    "from vaderSentiment.vaderSentiment import SentimentIntensityAnalyzer\n",
    "from tabulate import tabulate\n",
    "\n",
    "# Initialize VADER\n",
    "analyzer = SentimentIntensityAnalyzer()\n",
    "\n",
    "# Set display options\n",
    "pd.set_option('display.max_columns', None)\n",
    "pd.set_option('display.width', 1000)\n",
    "pd.set_option('display.max_colwidth', 50)"
   ]
  },
  {
   "cell_type": "markdown",
   "id": "fa69ebab",
   "metadata": {},
   "source": [
    "#Load data"
   ]
  },
  {
   "cell_type": "code",
   "execution_count": 5,
   "id": "06dea9f1",
   "metadata": {},
   "outputs": [
    {
     "name": "stdout",
     "output_type": "stream",
     "text": [
      "Banks present: ['Bank of Abyssinia' 'Commercial Bank of Ethiopia' 'Dashen Bank']\n",
      "Number of reviews per bank:\n",
      " bank\n",
      "Bank of Abyssinia              400\n",
      "Commercial Bank of Ethiopia    400\n",
      "Dashen Bank                    400\n",
      "Name: count, dtype: int64\n"
     ]
    }
   ],
   "source": [
    "# Load cleaned_reviews.csv and verify all banks are present.\n",
    "df = pd.read_csv('cleaned_reviews.csv')\n",
    "print(\"Banks present:\", df['bank'].unique())\n",
    "print(\"Number of reviews per bank:\\n\", df['bank'].value_counts())"
   ]
  },
  {
   "cell_type": "code",
   "execution_count": 6,
   "id": "87cd8ce5",
   "metadata": {},
   "outputs": [
    {
     "name": "stdout",
     "output_type": "stream",
     "text": [
      "Loaded 1200 reviews from cleaned_reviews.csv\n",
      "Unique banks: ['Bank of Abyssinia' 'Commercial Bank of Ethiopia' 'Dashen Bank']\n",
      "Reviews per bank:\n"
     ]
    },
    {
     "data": {
      "application/vnd.microsoft.datawrangler.viewer.v0+json": {
       "columns": [
        {
         "name": "bank",
         "rawType": "object",
         "type": "string"
        },
        {
         "name": "count",
         "rawType": "int64",
         "type": "integer"
        }
       ],
       "ref": "ecf9f881-0e77-43f4-a21a-3527a2b1c399",
       "rows": [
        [
         "Bank of Abyssinia",
         "400"
        ],
        [
         "Commercial Bank of Ethiopia",
         "400"
        ],
        [
         "Dashen Bank",
         "400"
        ]
       ],
       "shape": {
        "columns": 1,
        "rows": 3
       }
      },
      "text/html": [
       "<div>\n",
       "<style scoped>\n",
       "    .dataframe tbody tr th:only-of-type {\n",
       "        vertical-align: middle;\n",
       "    }\n",
       "\n",
       "    .dataframe tbody tr th {\n",
       "        vertical-align: top;\n",
       "    }\n",
       "\n",
       "    .dataframe thead th {\n",
       "        text-align: right;\n",
       "    }\n",
       "</style>\n",
       "<table border=\"1\" class=\"dataframe\">\n",
       "  <thead>\n",
       "    <tr style=\"text-align: right;\">\n",
       "      <th></th>\n",
       "      <th>count</th>\n",
       "    </tr>\n",
       "    <tr>\n",
       "      <th>bank</th>\n",
       "      <th></th>\n",
       "    </tr>\n",
       "  </thead>\n",
       "  <tbody>\n",
       "    <tr>\n",
       "      <th>Bank of Abyssinia</th>\n",
       "      <td>400</td>\n",
       "    </tr>\n",
       "    <tr>\n",
       "      <th>Commercial Bank of Ethiopia</th>\n",
       "      <td>400</td>\n",
       "    </tr>\n",
       "    <tr>\n",
       "      <th>Dashen Bank</th>\n",
       "      <td>400</td>\n",
       "    </tr>\n",
       "  </tbody>\n",
       "</table>\n",
       "</div>"
      ],
      "text/plain": [
       "                             count\n",
       "bank                              \n",
       "Bank of Abyssinia              400\n",
       "Commercial Bank of Ethiopia    400\n",
       "Dashen Bank                    400"
      ]
     },
     "metadata": {},
     "output_type": "display_data"
    },
    {
     "name": "stdout",
     "output_type": "stream",
     "text": [
      "Sample data:\n"
     ]
    },
    {
     "data": {
      "application/vnd.microsoft.datawrangler.viewer.v0+json": {
       "columns": [
        {
         "name": "index",
         "rawType": "int64",
         "type": "integer"
        },
        {
         "name": "review_id",
         "rawType": "object",
         "type": "string"
        },
        {
         "name": "review",
         "rawType": "object",
         "type": "string"
        },
        {
         "name": "rating",
         "rawType": "int64",
         "type": "integer"
        },
        {
         "name": "date",
         "rawType": "object",
         "type": "string"
        },
        {
         "name": "bank",
         "rawType": "object",
         "type": "string"
        },
        {
         "name": "source",
         "rawType": "object",
         "type": "string"
        }
       ],
       "ref": "75d2fc0f-353f-41fc-9a9b-9823944266a9",
       "rows": [
        [
         "0",
         "2e219268-96fd-400c-8632-0b0d1044f487",
         "This app is a joke. It crashes more than it works, takes forever to load, and half the features are just decorative at this point. Can’t log in, can’t transfer money, can’t even check my balance without it bugging out. To the developer: Are you actually trying to make this work, or is this some kind of social experiment to test our patience? Did you build this in your sleep? Because it definitely looks like it. If this is your idea of a functional app, maybe consider a different career path🙏",
         "1",
         "2025-05-21",
         "Bank of Abyssinia",
         "Google Play"
        ],
        [
         "1",
         "3559b91c-fad9-4032-bebe-cf99974b9628",
         "Hello, I’m facing a problem with the BOA Mobile app. Every time I enter my phone number and password, the app crashes and shows an error that says “BoaMobile closed because this app has a bug.” I tried updating, reinstalling, and clearing cache, but nothing worked. Please fix this bug in the next update. I really need access to my account. Thank you.",
         "1",
         "2025-06-03",
         "Bank of Abyssinia",
         "Google Play"
        ],
        [
         "2",
         "3271d45f-2900-41b6-878c-669ac563e60a",
         "It keeps showing this pop up to turn off developer options even tho it's off! I had to turn on and then off to make it work! This is a horrible experience and needs a fix asap! Plus kinda slow.",
         "1",
         "2025-04-19",
         "Bank of Abyssinia",
         "Google Play"
        ],
        [
         "3",
         "7d475f3a-15b4-4e56-ae4b-1fc451749e61",
         "Edit: New bug, app not letting me type in my otp codes. Shameful Why does this app not allow me to use it while having developer options on? Did y'all consider that I might, perhaps, be an actual developer? Why am I expected to toggle the option on and off just to bank (restarting my phone when I do)? Why is the message labled as somthing that will \"smoothen\" the experience? This is like the most \"security consultant\" thing to implement in an app. Please invest in actual security, not this mess.",
         "1",
         "2025-03-12",
         "Bank of Abyssinia",
         "Google Play"
        ],
        [
         "4",
         "301f6927-9395-4cda-bb77-041a36323875",
         "i entered incorrect security question by mistake boa app lock pin forever, why is there no other options? ?? i contacted different branchs more then 4times but they didn't able to solve this issue .",
         "5",
         "2025-05-10",
         "Bank of Abyssinia",
         "Google Play"
        ]
       ],
       "shape": {
        "columns": 6,
        "rows": 5
       }
      },
      "text/html": [
       "<div>\n",
       "<style scoped>\n",
       "    .dataframe tbody tr th:only-of-type {\n",
       "        vertical-align: middle;\n",
       "    }\n",
       "\n",
       "    .dataframe tbody tr th {\n",
       "        vertical-align: top;\n",
       "    }\n",
       "\n",
       "    .dataframe thead th {\n",
       "        text-align: right;\n",
       "    }\n",
       "</style>\n",
       "<table border=\"1\" class=\"dataframe\">\n",
       "  <thead>\n",
       "    <tr style=\"text-align: right;\">\n",
       "      <th></th>\n",
       "      <th>review_id</th>\n",
       "      <th>review</th>\n",
       "      <th>rating</th>\n",
       "      <th>date</th>\n",
       "      <th>bank</th>\n",
       "      <th>source</th>\n",
       "    </tr>\n",
       "  </thead>\n",
       "  <tbody>\n",
       "    <tr>\n",
       "      <th>0</th>\n",
       "      <td>2e219268-96fd-400c-8632-0b0d1044f487</td>\n",
       "      <td>This app is a joke. It crashes more than it wo...</td>\n",
       "      <td>1</td>\n",
       "      <td>2025-05-21</td>\n",
       "      <td>Bank of Abyssinia</td>\n",
       "      <td>Google Play</td>\n",
       "    </tr>\n",
       "    <tr>\n",
       "      <th>1</th>\n",
       "      <td>3559b91c-fad9-4032-bebe-cf99974b9628</td>\n",
       "      <td>Hello, I’m facing a problem with the BOA Mobil...</td>\n",
       "      <td>1</td>\n",
       "      <td>2025-06-03</td>\n",
       "      <td>Bank of Abyssinia</td>\n",
       "      <td>Google Play</td>\n",
       "    </tr>\n",
       "    <tr>\n",
       "      <th>2</th>\n",
       "      <td>3271d45f-2900-41b6-878c-669ac563e60a</td>\n",
       "      <td>It keeps showing this pop up to turn off devel...</td>\n",
       "      <td>1</td>\n",
       "      <td>2025-04-19</td>\n",
       "      <td>Bank of Abyssinia</td>\n",
       "      <td>Google Play</td>\n",
       "    </tr>\n",
       "    <tr>\n",
       "      <th>3</th>\n",
       "      <td>7d475f3a-15b4-4e56-ae4b-1fc451749e61</td>\n",
       "      <td>Edit: New bug, app not letting me type in my o...</td>\n",
       "      <td>1</td>\n",
       "      <td>2025-03-12</td>\n",
       "      <td>Bank of Abyssinia</td>\n",
       "      <td>Google Play</td>\n",
       "    </tr>\n",
       "    <tr>\n",
       "      <th>4</th>\n",
       "      <td>301f6927-9395-4cda-bb77-041a36323875</td>\n",
       "      <td>i entered incorrect security question by mista...</td>\n",
       "      <td>5</td>\n",
       "      <td>2025-05-10</td>\n",
       "      <td>Bank of Abyssinia</td>\n",
       "      <td>Google Play</td>\n",
       "    </tr>\n",
       "  </tbody>\n",
       "</table>\n",
       "</div>"
      ],
      "text/plain": [
       "                              review_id                                             review  rating        date               bank       source\n",
       "0  2e219268-96fd-400c-8632-0b0d1044f487  This app is a joke. It crashes more than it wo...       1  2025-05-21  Bank of Abyssinia  Google Play\n",
       "1  3559b91c-fad9-4032-bebe-cf99974b9628  Hello, I’m facing a problem with the BOA Mobil...       1  2025-06-03  Bank of Abyssinia  Google Play\n",
       "2  3271d45f-2900-41b6-878c-669ac563e60a  It keeps showing this pop up to turn off devel...       1  2025-04-19  Bank of Abyssinia  Google Play\n",
       "3  7d475f3a-15b4-4e56-ae4b-1fc451749e61  Edit: New bug, app not letting me type in my o...       1  2025-03-12  Bank of Abyssinia  Google Play\n",
       "4  301f6927-9395-4cda-bb77-041a36323875  i entered incorrect security question by mista...       5  2025-05-10  Bank of Abyssinia  Google Play"
      ]
     },
     "metadata": {},
     "output_type": "display_data"
    }
   ],
   "source": [
    "def load_data(file_path='cleaned_reviews.csv'):\n",
    "    try:\n",
    "        df = pd.read_csv(file_path)\n",
    "        print(f\"Loaded {len(df)} reviews from {file_path}\")\n",
    "        print(\"Unique banks:\", df['bank'].unique())\n",
    "        print(\"Reviews per bank:\")\n",
    "        display(df['bank'].value_counts().to_frame())\n",
    "        print(\"Sample data:\")\n",
    "        display(df.head())\n",
    "        return df\n",
    "    except FileNotFoundError:\n",
    "        print(f\"Error: {file_path} not found\")\n",
    "        return None\n",
    "    except Exception as e:\n",
    "        print(f\"Error loading data: {e}\")\n",
    "        return None\n",
    "\n",
    "df = load_data()\n",
    "if df is None:\n",
    "    raise SystemExit(\"Failed to load data\")"
   ]
  },
  {
   "cell_type": "markdown",
   "id": "b6f943a5",
   "metadata": {},
   "source": [
    "#Standardize Bank Names"
   ]
  },
  {
   "cell_type": "code",
   "execution_count": 7,
   "id": "b2a94c3b",
   "metadata": {},
   "outputs": [
    {
     "name": "stdout",
     "output_type": "stream",
     "text": [
      "Before standardization:\n"
     ]
    },
    {
     "data": {
      "application/vnd.microsoft.datawrangler.viewer.v0+json": {
       "columns": [
        {
         "name": "bank",
         "rawType": "object",
         "type": "string"
        },
        {
         "name": "count",
         "rawType": "int64",
         "type": "integer"
        }
       ],
       "ref": "06d9531d-ae7d-4d21-bfa1-b721b3e9ba62",
       "rows": [
        [
         "Bank of Abyssinia",
         "400"
        ],
        [
         "Commercial Bank of Ethiopia",
         "400"
        ],
        [
         "Dashen Bank",
         "400"
        ]
       ],
       "shape": {
        "columns": 1,
        "rows": 3
       }
      },
      "text/html": [
       "<div>\n",
       "<style scoped>\n",
       "    .dataframe tbody tr th:only-of-type {\n",
       "        vertical-align: middle;\n",
       "    }\n",
       "\n",
       "    .dataframe tbody tr th {\n",
       "        vertical-align: top;\n",
       "    }\n",
       "\n",
       "    .dataframe thead th {\n",
       "        text-align: right;\n",
       "    }\n",
       "</style>\n",
       "<table border=\"1\" class=\"dataframe\">\n",
       "  <thead>\n",
       "    <tr style=\"text-align: right;\">\n",
       "      <th></th>\n",
       "      <th>count</th>\n",
       "    </tr>\n",
       "    <tr>\n",
       "      <th>bank</th>\n",
       "      <th></th>\n",
       "    </tr>\n",
       "  </thead>\n",
       "  <tbody>\n",
       "    <tr>\n",
       "      <th>Bank of Abyssinia</th>\n",
       "      <td>400</td>\n",
       "    </tr>\n",
       "    <tr>\n",
       "      <th>Commercial Bank of Ethiopia</th>\n",
       "      <td>400</td>\n",
       "    </tr>\n",
       "    <tr>\n",
       "      <th>Dashen Bank</th>\n",
       "      <td>400</td>\n",
       "    </tr>\n",
       "  </tbody>\n",
       "</table>\n",
       "</div>"
      ],
      "text/plain": [
       "                             count\n",
       "bank                              \n",
       "Bank of Abyssinia              400\n",
       "Commercial Bank of Ethiopia    400\n",
       "Dashen Bank                    400"
      ]
     },
     "metadata": {},
     "output_type": "display_data"
    },
    {
     "name": "stdout",
     "output_type": "stream",
     "text": [
      "After standardization, unique banks: ['Bank of Abyssinia' 'Commercial Bank of Ethiopia' 'Dashen Bank']\n",
      "Reviews per bank after standardization:\n"
     ]
    },
    {
     "data": {
      "application/vnd.microsoft.datawrangler.viewer.v0+json": {
       "columns": [
        {
         "name": "bank",
         "rawType": "object",
         "type": "string"
        },
        {
         "name": "count",
         "rawType": "int64",
         "type": "integer"
        }
       ],
       "ref": "8be48114-b80a-4d5b-a415-41ddf22a51dc",
       "rows": [
        [
         "Bank of Abyssinia",
         "400"
        ],
        [
         "Commercial Bank of Ethiopia",
         "400"
        ],
        [
         "Dashen Bank",
         "400"
        ]
       ],
       "shape": {
        "columns": 1,
        "rows": 3
       }
      },
      "text/html": [
       "<div>\n",
       "<style scoped>\n",
       "    .dataframe tbody tr th:only-of-type {\n",
       "        vertical-align: middle;\n",
       "    }\n",
       "\n",
       "    .dataframe tbody tr th {\n",
       "        vertical-align: top;\n",
       "    }\n",
       "\n",
       "    .dataframe thead th {\n",
       "        text-align: right;\n",
       "    }\n",
       "</style>\n",
       "<table border=\"1\" class=\"dataframe\">\n",
       "  <thead>\n",
       "    <tr style=\"text-align: right;\">\n",
       "      <th></th>\n",
       "      <th>count</th>\n",
       "    </tr>\n",
       "    <tr>\n",
       "      <th>bank</th>\n",
       "      <th></th>\n",
       "    </tr>\n",
       "  </thead>\n",
       "  <tbody>\n",
       "    <tr>\n",
       "      <th>Bank of Abyssinia</th>\n",
       "      <td>400</td>\n",
       "    </tr>\n",
       "    <tr>\n",
       "      <th>Commercial Bank of Ethiopia</th>\n",
       "      <td>400</td>\n",
       "    </tr>\n",
       "    <tr>\n",
       "      <th>Dashen Bank</th>\n",
       "      <td>400</td>\n",
       "    </tr>\n",
       "  </tbody>\n",
       "</table>\n",
       "</div>"
      ],
      "text/plain": [
       "                             count\n",
       "bank                              \n",
       "Bank of Abyssinia              400\n",
       "Commercial Bank of Ethiopia    400\n",
       "Dashen Bank                    400"
      ]
     },
     "metadata": {},
     "output_type": "display_data"
    }
   ],
   "source": [
    "def standardize_bank_names(df):\n",
    "    bank_mapping = {\n",
    "        'CBE': 'Commercial Bank of Ethiopia',\n",
    "        'BOA': 'Bank of Abyssinia',\n",
    "        'DB': 'Dashen Bank',\n",
    "        'Commercial Bank of Ethiopia': 'Commercial Bank of Ethiopia',\n",
    "        'Bank of Abyssinia': 'Bank of Abyssinia',\n",
    "        'Dashen Bank': 'Dashen Bank'\n",
    "    }\n",
    "    original_counts = df['bank'].value_counts()\n",
    "    df['bank'] = df['bank'].map(bank_mapping).fillna(df['bank'])\n",
    "    print(\"Before standardization:\")\n",
    "    display(original_counts.to_frame())\n",
    "    print(\"After standardization, unique banks:\", df['bank'].unique())\n",
    "    print(\"Reviews per bank after standardization:\")\n",
    "    display(df['bank'].value_counts().to_frame())\n",
    "    return df\n",
    "\n",
    "df = standardize_bank_names(df)"
   ]
  },
  {
   "cell_type": "markdown",
   "id": "90d50fb1",
   "metadata": {},
   "source": [
    "#Sentiment Analysis Function"
   ]
  },
  {
   "cell_type": "code",
   "execution_count": 9,
   "id": "e58cce7a",
   "metadata": {},
   "outputs": [],
   "source": [
    "def analyze_sentiment(review):\n",
    "    try:\n",
    "        if not isinstance(review, str) or pd.isna(review) or review.strip() == '':\n",
    "            return 'neutral', 0.0\n",
    "        scores = analyzer.polarity_scores(review)\n",
    "        compound = scores['compound']\n",
    "        label = 'positive' if compound > 0.05 else 'negative' if compound < -0.05 else 'neutral'\n",
    "        return label, compound\n",
    "    except Exception as e:\n",
    "        print(f\"Error analyzing review '{review}': {e}\")\n",
    "        return 'neutral', 0.0"
   ]
  },
  {
   "cell_type": "markdown",
   "id": "0f419662",
   "metadata": {},
   "source": [
    "#Apply Sentiment Analysis"
   ]
  },
  {
   "cell_type": "code",
   "execution_count": 10,
   "id": "b751afeb",
   "metadata": {},
   "outputs": [
    {
     "name": "stdout",
     "output_type": "stream",
     "text": [
      "Analyzing sentiments...\n",
      "Rows before analysis: 1200, after: 1200\n",
      "Reviews per bank after sentiment analysis:\n"
     ]
    },
    {
     "data": {
      "application/vnd.microsoft.datawrangler.viewer.v0+json": {
       "columns": [
        {
         "name": "bank",
         "rawType": "object",
         "type": "string"
        },
        {
         "name": "count",
         "rawType": "int64",
         "type": "integer"
        }
       ],
       "ref": "a7145bfb-08d2-4e2f-80b8-3f461acf59ca",
       "rows": [
        [
         "Bank of Abyssinia",
         "400"
        ],
        [
         "Commercial Bank of Ethiopia",
         "400"
        ],
        [
         "Dashen Bank",
         "400"
        ]
       ],
       "shape": {
        "columns": 1,
        "rows": 3
       }
      },
      "text/html": [
       "<div>\n",
       "<style scoped>\n",
       "    .dataframe tbody tr th:only-of-type {\n",
       "        vertical-align: middle;\n",
       "    }\n",
       "\n",
       "    .dataframe tbody tr th {\n",
       "        vertical-align: top;\n",
       "    }\n",
       "\n",
       "    .dataframe thead th {\n",
       "        text-align: right;\n",
       "    }\n",
       "</style>\n",
       "<table border=\"1\" class=\"dataframe\">\n",
       "  <thead>\n",
       "    <tr style=\"text-align: right;\">\n",
       "      <th></th>\n",
       "      <th>count</th>\n",
       "    </tr>\n",
       "    <tr>\n",
       "      <th>bank</th>\n",
       "      <th></th>\n",
       "    </tr>\n",
       "  </thead>\n",
       "  <tbody>\n",
       "    <tr>\n",
       "      <th>Bank of Abyssinia</th>\n",
       "      <td>400</td>\n",
       "    </tr>\n",
       "    <tr>\n",
       "      <th>Commercial Bank of Ethiopia</th>\n",
       "      <td>400</td>\n",
       "    </tr>\n",
       "    <tr>\n",
       "      <th>Dashen Bank</th>\n",
       "      <td>400</td>\n",
       "    </tr>\n",
       "  </tbody>\n",
       "</table>\n",
       "</div>"
      ],
      "text/plain": [
       "                             count\n",
       "bank                              \n",
       "Bank of Abyssinia              400\n",
       "Commercial Bank of Ethiopia    400\n",
       "Dashen Bank                    400"
      ]
     },
     "metadata": {},
     "output_type": "display_data"
    },
    {
     "name": "stdout",
     "output_type": "stream",
     "text": [
      "Sample data with sentiment:\n"
     ]
    },
    {
     "data": {
      "application/vnd.microsoft.datawrangler.viewer.v0+json": {
       "columns": [
        {
         "name": "index",
         "rawType": "int64",
         "type": "integer"
        },
        {
         "name": "bank",
         "rawType": "object",
         "type": "string"
        },
        {
         "name": "review",
         "rawType": "object",
         "type": "string"
        },
        {
         "name": "rating",
         "rawType": "int64",
         "type": "integer"
        },
        {
         "name": "sentiment_label",
         "rawType": "object",
         "type": "string"
        },
        {
         "name": "sentiment_score",
         "rawType": "float64",
         "type": "float"
        }
       ],
       "ref": "b101df3d-80e3-4c84-8f9d-08e5e49856f2",
       "rows": [
        [
         "0",
         "Bank of Abyssinia",
         "This app is a joke. It crashes more than it works, takes forever to load, and half the features are just decorative at this point. Can’t log in, can’t transfer money, can’t even check my balance without it bugging out. To the developer: Are you actually trying to make this work, or is this some kind of social experiment to test our patience? Did you build this in your sleep? Because it definitely looks like it. If this is your idea of a functional app, maybe consider a different career path🙏",
         "1",
         "positive",
         "0.7757"
        ],
        [
         "1",
         "Bank of Abyssinia",
         "Hello, I’m facing a problem with the BOA Mobile app. Every time I enter my phone number and password, the app crashes and shows an error that says “BoaMobile closed because this app has a bug.” I tried updating, reinstalling, and clearing cache, but nothing worked. Please fix this bug in the next update. I really need access to my account. Thank you.",
         "1",
         "negative",
         "-0.1884"
        ],
        [
         "2",
         "Bank of Abyssinia",
         "It keeps showing this pop up to turn off developer options even tho it's off! I had to turn on and then off to make it work! This is a horrible experience and needs a fix asap! Plus kinda slow.",
         "1",
         "negative",
         "-0.6571"
        ],
        [
         "3",
         "Bank of Abyssinia",
         "Edit: New bug, app not letting me type in my otp codes. Shameful Why does this app not allow me to use it while having developer options on? Did y'all consider that I might, perhaps, be an actual developer? Why am I expected to toggle the option on and off just to bank (restarting my phone when I do)? Why is the message labled as somthing that will \"smoothen\" the experience? This is like the most \"security consultant\" thing to implement in an app. Please invest in actual security, not this mess.",
         "1",
         "positive",
         "0.7962"
        ],
        [
         "4",
         "Bank of Abyssinia",
         "i entered incorrect security question by mistake boa app lock pin forever, why is there no other options? ?? i contacted different branchs more then 4times but they didn't able to solve this issue .",
         "5",
         "negative",
         "-0.4639"
        ],
        [
         "5",
         "Bank of Abyssinia",
         "I don't know what is wrong with BOA as a bank in general. It's been going backwards since last year or so. The app is a disaster to use in every possible way. Not stable to log in and very slow to perform transactions, couldn't take a screenshot (or can't even find the pictures even using its save screenshot option). Most of the time, it fails to perform transactions and so on. Simply, it's the worst!",
         "1",
         "negative",
         "-0.9198"
        ],
        [
         "6",
         "Bank of Abyssinia",
         "What's wrong with App. this days? it doesn't working properly. 1) it's VERY SLOW & doesn't open. it's very Annoying. 2) most of the time it says repeatedly Please try it again or try it later but again and again it doesn't open or work. 3) repeatedly it says something went wrong then it off the screen. I've updated the App. when it needed but nothing changed. 👉PLEASE if it has some issues with the App. Please fix it otherwise I'm going to uninstall it.",
         "2",
         "negative",
         "-0.5569"
        ],
        [
         "7",
         "Bank of Abyssinia",
         "I’m giving this app one star because there are no options below that. My experience has been incredibly frustrating due to the extremely long loading times, and the app even closes automatically at times. People choose mobile banking for its convenience, but this app is far too time-consuming, making it the worst I’ve used. I hope improvements are made to enhance the user experience.",
         "1",
         "negative",
         "-0.2135"
        ],
        [
         "8",
         "Bank of Abyssinia",
         "I have a fitayah account, a type of interest free account, and because their system is unable to process anything for people like me I can't see any of my accounts in the account list on any transaction, although I can see it when performing security actions or checking my balance, as such this app is as useless to me as the previous one. Unbelievable",
         "1",
         "positive",
         "0.8481"
        ],
        [
         "9",
         "Bank of Abyssinia",
         "Worst App ever. Totally unreliable. And it didn't work at all for the last 4 months.",
         "1",
         "negative",
         "-0.6249"
        ]
       ],
       "shape": {
        "columns": 5,
        "rows": 10
       }
      },
      "text/html": [
       "<div>\n",
       "<style scoped>\n",
       "    .dataframe tbody tr th:only-of-type {\n",
       "        vertical-align: middle;\n",
       "    }\n",
       "\n",
       "    .dataframe tbody tr th {\n",
       "        vertical-align: top;\n",
       "    }\n",
       "\n",
       "    .dataframe thead th {\n",
       "        text-align: right;\n",
       "    }\n",
       "</style>\n",
       "<table border=\"1\" class=\"dataframe\">\n",
       "  <thead>\n",
       "    <tr style=\"text-align: right;\">\n",
       "      <th></th>\n",
       "      <th>bank</th>\n",
       "      <th>review</th>\n",
       "      <th>rating</th>\n",
       "      <th>sentiment_label</th>\n",
       "      <th>sentiment_score</th>\n",
       "    </tr>\n",
       "  </thead>\n",
       "  <tbody>\n",
       "    <tr>\n",
       "      <th>0</th>\n",
       "      <td>Bank of Abyssinia</td>\n",
       "      <td>This app is a joke. It crashes more than it wo...</td>\n",
       "      <td>1</td>\n",
       "      <td>positive</td>\n",
       "      <td>0.7757</td>\n",
       "    </tr>\n",
       "    <tr>\n",
       "      <th>1</th>\n",
       "      <td>Bank of Abyssinia</td>\n",
       "      <td>Hello, I’m facing a problem with the BOA Mobil...</td>\n",
       "      <td>1</td>\n",
       "      <td>negative</td>\n",
       "      <td>-0.1884</td>\n",
       "    </tr>\n",
       "    <tr>\n",
       "      <th>2</th>\n",
       "      <td>Bank of Abyssinia</td>\n",
       "      <td>It keeps showing this pop up to turn off devel...</td>\n",
       "      <td>1</td>\n",
       "      <td>negative</td>\n",
       "      <td>-0.6571</td>\n",
       "    </tr>\n",
       "    <tr>\n",
       "      <th>3</th>\n",
       "      <td>Bank of Abyssinia</td>\n",
       "      <td>Edit: New bug, app not letting me type in my o...</td>\n",
       "      <td>1</td>\n",
       "      <td>positive</td>\n",
       "      <td>0.7962</td>\n",
       "    </tr>\n",
       "    <tr>\n",
       "      <th>4</th>\n",
       "      <td>Bank of Abyssinia</td>\n",
       "      <td>i entered incorrect security question by mista...</td>\n",
       "      <td>5</td>\n",
       "      <td>negative</td>\n",
       "      <td>-0.4639</td>\n",
       "    </tr>\n",
       "    <tr>\n",
       "      <th>5</th>\n",
       "      <td>Bank of Abyssinia</td>\n",
       "      <td>I don't know what is wrong with BOA as a bank ...</td>\n",
       "      <td>1</td>\n",
       "      <td>negative</td>\n",
       "      <td>-0.9198</td>\n",
       "    </tr>\n",
       "    <tr>\n",
       "      <th>6</th>\n",
       "      <td>Bank of Abyssinia</td>\n",
       "      <td>What's wrong with App. this days? it doesn't w...</td>\n",
       "      <td>2</td>\n",
       "      <td>negative</td>\n",
       "      <td>-0.5569</td>\n",
       "    </tr>\n",
       "    <tr>\n",
       "      <th>7</th>\n",
       "      <td>Bank of Abyssinia</td>\n",
       "      <td>I’m giving this app one star because there are...</td>\n",
       "      <td>1</td>\n",
       "      <td>negative</td>\n",
       "      <td>-0.2135</td>\n",
       "    </tr>\n",
       "    <tr>\n",
       "      <th>8</th>\n",
       "      <td>Bank of Abyssinia</td>\n",
       "      <td>I have a fitayah account, a type of interest f...</td>\n",
       "      <td>1</td>\n",
       "      <td>positive</td>\n",
       "      <td>0.8481</td>\n",
       "    </tr>\n",
       "    <tr>\n",
       "      <th>9</th>\n",
       "      <td>Bank of Abyssinia</td>\n",
       "      <td>Worst App ever. Totally unreliable. And it did...</td>\n",
       "      <td>1</td>\n",
       "      <td>negative</td>\n",
       "      <td>-0.6249</td>\n",
       "    </tr>\n",
       "  </tbody>\n",
       "</table>\n",
       "</div>"
      ],
      "text/plain": [
       "                bank                                             review  rating sentiment_label  sentiment_score\n",
       "0  Bank of Abyssinia  This app is a joke. It crashes more than it wo...       1        positive           0.7757\n",
       "1  Bank of Abyssinia  Hello, I’m facing a problem with the BOA Mobil...       1        negative          -0.1884\n",
       "2  Bank of Abyssinia  It keeps showing this pop up to turn off devel...       1        negative          -0.6571\n",
       "3  Bank of Abyssinia  Edit: New bug, app not letting me type in my o...       1        positive           0.7962\n",
       "4  Bank of Abyssinia  i entered incorrect security question by mista...       5        negative          -0.4639\n",
       "5  Bank of Abyssinia  I don't know what is wrong with BOA as a bank ...       1        negative          -0.9198\n",
       "6  Bank of Abyssinia  What's wrong with App. this days? it doesn't w...       2        negative          -0.5569\n",
       "7  Bank of Abyssinia  I’m giving this app one star because there are...       1        negative          -0.2135\n",
       "8  Bank of Abyssinia  I have a fitayah account, a type of interest f...       1        positive           0.8481\n",
       "9  Bank of Abyssinia  Worst App ever. Totally unreliable. And it did...       1        negative          -0.6249"
      ]
     },
     "metadata": {},
     "output_type": "display_data"
    },
    {
     "name": "stdout",
     "output_type": "stream",
     "text": [
      "Sentiment coverage: 100.00%\n"
     ]
    }
   ],
   "source": [
    "print(\"Analyzing sentiments...\")\n",
    "original_len = len(df)\n",
    "df[['sentiment_label', 'sentiment_score']] = df['review'].apply(\n",
    "    lambda x: pd.Series(analyze_sentiment(x))\n",
    ")\n",
    "print(f\"Rows before analysis: {original_len}, after: {len(df)}\")\n",
    "print(\"Reviews per bank after sentiment analysis:\")\n",
    "display(df['bank'].value_counts().to_frame())\n",
    "print(\"Sample data with sentiment:\")\n",
    "display(df[['bank', 'review', 'rating', 'sentiment_label', 'sentiment_score']].head(10))\n",
    "print(f\"Sentiment coverage: {(df[['sentiment_label', 'sentiment_score']].notnull().all(axis=1).sum() / len(df) * 100):.2f}%\")"
   ]
  },
  {
   "cell_type": "markdown",
   "id": "f793d674",
   "metadata": {},
   "source": [
    "#Generate Sentiment Summary"
   ]
  },
  {
   "cell_type": "code",
   "execution_count": 11,
   "id": "9f5d21b3",
   "metadata": {},
   "outputs": [
    {
     "name": "stdout",
     "output_type": "stream",
     "text": [
      "Sentiment Summary:\n"
     ]
    },
    {
     "data": {
      "application/vnd.microsoft.datawrangler.viewer.v0+json": {
       "columns": [
        {
         "name": "index",
         "rawType": "int64",
         "type": "integer"
        },
        {
         "name": "bank",
         "rawType": "object",
         "type": "string"
        },
        {
         "name": "rating",
         "rawType": "int64",
         "type": "integer"
        },
        {
         "name": "avg_sentiment_score",
         "rawType": "float64",
         "type": "float"
        },
        {
         "name": "review_count",
         "rawType": "int64",
         "type": "integer"
        },
        {
         "name": "sentiment_distribution",
         "rawType": "object",
         "type": "unknown"
        }
       ],
       "ref": "bb0cbe64-43fa-40ab-8313-f41e90aaefae",
       "rows": [
        [
         "0",
         "Bank of Abyssinia",
         "1",
         "-0.2088349019607843",
         "255",
         "{'negative': 144, 'positive': 58, 'neutral': 53}"
        ],
        [
         "1",
         "Bank of Abyssinia",
         "2",
         "-0.09249655172413793",
         "29",
         "{'negative': 15, 'positive': 9, 'neutral': 5}"
        ],
        [
         "2",
         "Bank of Abyssinia",
         "3",
         "0.09622222222222222",
         "36",
         "{'positive': 16, 'neutral': 11, 'negative': 9}"
        ],
        [
         "3",
         "Bank of Abyssinia",
         "4",
         "0.45413333333333333",
         "12",
         "{'positive': 10, 'negative': 1, 'neutral': 1}"
        ],
        [
         "4",
         "Bank of Abyssinia",
         "5",
         "0.5046485294117646",
         "68",
         "{'positive': 54, 'neutral': 8, 'negative': 6}"
        ],
        [
         "5",
         "Commercial Bank of Ethiopia",
         "1",
         "-0.21284375",
         "128",
         "{'negative': 74, 'positive': 35, 'neutral': 19}"
        ],
        [
         "6",
         "Commercial Bank of Ethiopia",
         "2",
         "0.06355999999999999",
         "40",
         "{'positive': 17, 'negative': 16, 'neutral': 7}"
        ],
        [
         "7",
         "Commercial Bank of Ethiopia",
         "3",
         "0.21829523809523813",
         "63",
         "{'positive': 35, 'negative': 17, 'neutral': 11}"
        ],
        [
         "8",
         "Commercial Bank of Ethiopia",
         "4",
         "0.4135670731707317",
         "82",
         "{'positive': 62, 'negative': 14, 'neutral': 6}"
        ],
        [
         "9",
         "Commercial Bank of Ethiopia",
         "5",
         "0.48581494252873564",
         "87",
         "{'positive': 72, 'negative': 11, 'neutral': 4}"
        ],
        [
         "10",
         "Dashen Bank",
         "1",
         "-0.02809393939393939",
         "33",
         "{'negative': 14, 'positive': 11, 'neutral': 8}"
        ],
        [
         "11",
         "Dashen Bank",
         "2",
         "-0.05244444444444444",
         "18",
         "{'neutral': 7, 'negative': 6, 'positive': 5}"
        ],
        [
         "12",
         "Dashen Bank",
         "3",
         "0.331625",
         "12",
         "{'positive': 8, 'neutral': 4}"
        ],
        [
         "13",
         "Dashen Bank",
         "4",
         "0.31259000000000003",
         "20",
         "{'positive': 12, 'neutral': 6, 'negative': 2}"
        ],
        [
         "14",
         "Dashen Bank",
         "5",
         "0.5494722397476342",
         "317",
         "{'positive': 257, 'neutral': 57, 'negative': 3}"
        ]
       ],
       "shape": {
        "columns": 5,
        "rows": 15
       }
      },
      "text/html": [
       "<div>\n",
       "<style scoped>\n",
       "    .dataframe tbody tr th:only-of-type {\n",
       "        vertical-align: middle;\n",
       "    }\n",
       "\n",
       "    .dataframe tbody tr th {\n",
       "        vertical-align: top;\n",
       "    }\n",
       "\n",
       "    .dataframe thead th {\n",
       "        text-align: right;\n",
       "    }\n",
       "</style>\n",
       "<table border=\"1\" class=\"dataframe\">\n",
       "  <thead>\n",
       "    <tr style=\"text-align: right;\">\n",
       "      <th></th>\n",
       "      <th>bank</th>\n",
       "      <th>rating</th>\n",
       "      <th>avg_sentiment_score</th>\n",
       "      <th>review_count</th>\n",
       "      <th>sentiment_distribution</th>\n",
       "    </tr>\n",
       "  </thead>\n",
       "  <tbody>\n",
       "    <tr>\n",
       "      <th>0</th>\n",
       "      <td>Bank of Abyssinia</td>\n",
       "      <td>1</td>\n",
       "      <td>-0.208835</td>\n",
       "      <td>255</td>\n",
       "      <td>{'negative': 144, 'positive': 58, 'neutral': 53}</td>\n",
       "    </tr>\n",
       "    <tr>\n",
       "      <th>1</th>\n",
       "      <td>Bank of Abyssinia</td>\n",
       "      <td>2</td>\n",
       "      <td>-0.092497</td>\n",
       "      <td>29</td>\n",
       "      <td>{'negative': 15, 'positive': 9, 'neutral': 5}</td>\n",
       "    </tr>\n",
       "    <tr>\n",
       "      <th>2</th>\n",
       "      <td>Bank of Abyssinia</td>\n",
       "      <td>3</td>\n",
       "      <td>0.096222</td>\n",
       "      <td>36</td>\n",
       "      <td>{'positive': 16, 'neutral': 11, 'negative': 9}</td>\n",
       "    </tr>\n",
       "    <tr>\n",
       "      <th>3</th>\n",
       "      <td>Bank of Abyssinia</td>\n",
       "      <td>4</td>\n",
       "      <td>0.454133</td>\n",
       "      <td>12</td>\n",
       "      <td>{'positive': 10, 'negative': 1, 'neutral': 1}</td>\n",
       "    </tr>\n",
       "    <tr>\n",
       "      <th>4</th>\n",
       "      <td>Bank of Abyssinia</td>\n",
       "      <td>5</td>\n",
       "      <td>0.504649</td>\n",
       "      <td>68</td>\n",
       "      <td>{'positive': 54, 'neutral': 8, 'negative': 6}</td>\n",
       "    </tr>\n",
       "    <tr>\n",
       "      <th>5</th>\n",
       "      <td>Commercial Bank of Ethiopia</td>\n",
       "      <td>1</td>\n",
       "      <td>-0.212844</td>\n",
       "      <td>128</td>\n",
       "      <td>{'negative': 74, 'positive': 35, 'neutral': 19}</td>\n",
       "    </tr>\n",
       "    <tr>\n",
       "      <th>6</th>\n",
       "      <td>Commercial Bank of Ethiopia</td>\n",
       "      <td>2</td>\n",
       "      <td>0.063560</td>\n",
       "      <td>40</td>\n",
       "      <td>{'positive': 17, 'negative': 16, 'neutral': 7}</td>\n",
       "    </tr>\n",
       "    <tr>\n",
       "      <th>7</th>\n",
       "      <td>Commercial Bank of Ethiopia</td>\n",
       "      <td>3</td>\n",
       "      <td>0.218295</td>\n",
       "      <td>63</td>\n",
       "      <td>{'positive': 35, 'negative': 17, 'neutral': 11}</td>\n",
       "    </tr>\n",
       "    <tr>\n",
       "      <th>8</th>\n",
       "      <td>Commercial Bank of Ethiopia</td>\n",
       "      <td>4</td>\n",
       "      <td>0.413567</td>\n",
       "      <td>82</td>\n",
       "      <td>{'positive': 62, 'negative': 14, 'neutral': 6}</td>\n",
       "    </tr>\n",
       "    <tr>\n",
       "      <th>9</th>\n",
       "      <td>Commercial Bank of Ethiopia</td>\n",
       "      <td>5</td>\n",
       "      <td>0.485815</td>\n",
       "      <td>87</td>\n",
       "      <td>{'positive': 72, 'negative': 11, 'neutral': 4}</td>\n",
       "    </tr>\n",
       "    <tr>\n",
       "      <th>10</th>\n",
       "      <td>Dashen Bank</td>\n",
       "      <td>1</td>\n",
       "      <td>-0.028094</td>\n",
       "      <td>33</td>\n",
       "      <td>{'negative': 14, 'positive': 11, 'neutral': 8}</td>\n",
       "    </tr>\n",
       "    <tr>\n",
       "      <th>11</th>\n",
       "      <td>Dashen Bank</td>\n",
       "      <td>2</td>\n",
       "      <td>-0.052444</td>\n",
       "      <td>18</td>\n",
       "      <td>{'neutral': 7, 'negative': 6, 'positive': 5}</td>\n",
       "    </tr>\n",
       "    <tr>\n",
       "      <th>12</th>\n",
       "      <td>Dashen Bank</td>\n",
       "      <td>3</td>\n",
       "      <td>0.331625</td>\n",
       "      <td>12</td>\n",
       "      <td>{'positive': 8, 'neutral': 4}</td>\n",
       "    </tr>\n",
       "    <tr>\n",
       "      <th>13</th>\n",
       "      <td>Dashen Bank</td>\n",
       "      <td>4</td>\n",
       "      <td>0.312590</td>\n",
       "      <td>20</td>\n",
       "      <td>{'positive': 12, 'neutral': 6, 'negative': 2}</td>\n",
       "    </tr>\n",
       "    <tr>\n",
       "      <th>14</th>\n",
       "      <td>Dashen Bank</td>\n",
       "      <td>5</td>\n",
       "      <td>0.549472</td>\n",
       "      <td>317</td>\n",
       "      <td>{'positive': 257, 'neutral': 57, 'negative': 3}</td>\n",
       "    </tr>\n",
       "  </tbody>\n",
       "</table>\n",
       "</div>"
      ],
      "text/plain": [
       "                           bank  rating  avg_sentiment_score  review_count                            sentiment_distribution\n",
       "0             Bank of Abyssinia       1            -0.208835           255  {'negative': 144, 'positive': 58, 'neutral': 53}\n",
       "1             Bank of Abyssinia       2            -0.092497            29     {'negative': 15, 'positive': 9, 'neutral': 5}\n",
       "2             Bank of Abyssinia       3             0.096222            36    {'positive': 16, 'neutral': 11, 'negative': 9}\n",
       "3             Bank of Abyssinia       4             0.454133            12     {'positive': 10, 'negative': 1, 'neutral': 1}\n",
       "4             Bank of Abyssinia       5             0.504649            68     {'positive': 54, 'neutral': 8, 'negative': 6}\n",
       "5   Commercial Bank of Ethiopia       1            -0.212844           128   {'negative': 74, 'positive': 35, 'neutral': 19}\n",
       "6   Commercial Bank of Ethiopia       2             0.063560            40    {'positive': 17, 'negative': 16, 'neutral': 7}\n",
       "7   Commercial Bank of Ethiopia       3             0.218295            63   {'positive': 35, 'negative': 17, 'neutral': 11}\n",
       "8   Commercial Bank of Ethiopia       4             0.413567            82    {'positive': 62, 'negative': 14, 'neutral': 6}\n",
       "9   Commercial Bank of Ethiopia       5             0.485815            87    {'positive': 72, 'negative': 11, 'neutral': 4}\n",
       "10                  Dashen Bank       1            -0.028094            33    {'negative': 14, 'positive': 11, 'neutral': 8}\n",
       "11                  Dashen Bank       2            -0.052444            18      {'neutral': 7, 'negative': 6, 'positive': 5}\n",
       "12                  Dashen Bank       3             0.331625            12                     {'positive': 8, 'neutral': 4}\n",
       "13                  Dashen Bank       4             0.312590            20     {'positive': 12, 'neutral': 6, 'negative': 2}\n",
       "14                  Dashen Bank       5             0.549472           317   {'positive': 257, 'neutral': 57, 'negative': 3}"
      ]
     },
     "metadata": {},
     "output_type": "display_data"
    },
    {
     "name": "stdout",
     "output_type": "stream",
     "text": [
      "Unique banks in summary: ['Bank of Abyssinia' 'Commercial Bank of Ethiopia' 'Dashen Bank']\n"
     ]
    }
   ],
   "source": [
    "sentiment_summary = df.groupby(['bank', 'rating'], as_index=False).agg({\n",
    "    'sentiment_score': ['mean', 'count'],\n",
    "    'sentiment_label': lambda x: x.value_counts().to_dict()\n",
    "})\n",
    "sentiment_summary.columns = ['bank', 'rating', 'avg_sentiment_score', 'review_count', 'sentiment_distribution']\n",
    "print(\"Sentiment Summary:\")\n",
    "display(sentiment_summary)\n",
    "print(\"Unique banks in summary:\", sentiment_summary['bank'].unique())"
   ]
  },
  {
   "cell_type": "markdown",
   "id": "994f7e8c",
   "metadata": {},
   "source": [
    "#Save Results"
   ]
  },
  {
   "cell_type": "code",
   "execution_count": 12,
   "id": "d09f3610",
   "metadata": {},
   "outputs": [
    {
     "name": "stdout",
     "output_type": "stream",
     "text": [
      "Saved sentiment results to reviews_with_sentiment.csv (1200 rows)\n",
      "Saved summary to sentiment_summary.csv (15 rows)\n",
      "\n",
      "Verifying saved files:\n",
      "Reviews per bank in reviews_with_sentiment.csv:\n"
     ]
    },
    {
     "data": {
      "application/vnd.microsoft.datawrangler.viewer.v0+json": {
       "columns": [
        {
         "name": "bank",
         "rawType": "object",
         "type": "string"
        },
        {
         "name": "count",
         "rawType": "int64",
         "type": "integer"
        }
       ],
       "ref": "7f472e99-ab98-43d0-92b4-708553eb90b1",
       "rows": [
        [
         "Bank of Abyssinia",
         "400"
        ],
        [
         "Commercial Bank of Ethiopia",
         "400"
        ],
        [
         "Dashen Bank",
         "400"
        ]
       ],
       "shape": {
        "columns": 1,
        "rows": 3
       }
      },
      "text/html": [
       "<div>\n",
       "<style scoped>\n",
       "    .dataframe tbody tr th:only-of-type {\n",
       "        vertical-align: middle;\n",
       "    }\n",
       "\n",
       "    .dataframe tbody tr th {\n",
       "        vertical-align: top;\n",
       "    }\n",
       "\n",
       "    .dataframe thead th {\n",
       "        text-align: right;\n",
       "    }\n",
       "</style>\n",
       "<table border=\"1\" class=\"dataframe\">\n",
       "  <thead>\n",
       "    <tr style=\"text-align: right;\">\n",
       "      <th></th>\n",
       "      <th>count</th>\n",
       "    </tr>\n",
       "    <tr>\n",
       "      <th>bank</th>\n",
       "      <th></th>\n",
       "    </tr>\n",
       "  </thead>\n",
       "  <tbody>\n",
       "    <tr>\n",
       "      <th>Bank of Abyssinia</th>\n",
       "      <td>400</td>\n",
       "    </tr>\n",
       "    <tr>\n",
       "      <th>Commercial Bank of Ethiopia</th>\n",
       "      <td>400</td>\n",
       "    </tr>\n",
       "    <tr>\n",
       "      <th>Dashen Bank</th>\n",
       "      <td>400</td>\n",
       "    </tr>\n",
       "  </tbody>\n",
       "</table>\n",
       "</div>"
      ],
      "text/plain": [
       "                             count\n",
       "bank                              \n",
       "Bank of Abyssinia              400\n",
       "Commercial Bank of Ethiopia    400\n",
       "Dashen Bank                    400"
      ]
     },
     "metadata": {},
     "output_type": "display_data"
    },
    {
     "name": "stdout",
     "output_type": "stream",
     "text": [
      "Unique banks in sentiment_summary.csv:\n"
     ]
    },
    {
     "data": {
      "text/plain": [
       "array(['Bank of Abyssinia', 'Commercial Bank of Ethiopia', 'Dashen Bank'],\n",
       "      dtype=object)"
      ]
     },
     "metadata": {},
     "output_type": "display_data"
    }
   ],
   "source": [
    "df.to_csv('reviews_with_sentiment.csv', index=False)\n",
    "sentiment_summary.to_csv('sentiment_summary.csv', index=False)\n",
    "print(f\"Saved sentiment results to reviews_with_sentiment.csv ({len(df)} rows)\")\n",
    "print(f\"Saved summary to sentiment_summary.csv ({len(sentiment_summary)} rows)\")\n",
    "\n",
    "# Verify saved files\n",
    "print(\"\\nVerifying saved files:\")\n",
    "saved_df = pd.read_csv('reviews_with_sentiment.csv')\n",
    "print(\"Reviews per bank in reviews_with_sentiment.csv:\")\n",
    "display(saved_df['bank'].value_counts().to_frame())\n",
    "saved_summary = pd.read_csv('sentiment_summary.csv')\n",
    "print(\"Unique banks in sentiment_summary.csv:\")\n",
    "display(saved_summary['bank'].unique())"
   ]
  }
 ],
 "metadata": {
  "kernelspec": {
   "display_name": "venv",
   "language": "python",
   "name": "python3"
  },
  "language_info": {
   "codemirror_mode": {
    "name": "ipython",
    "version": 3
   },
   "file_extension": ".py",
   "mimetype": "text/x-python",
   "name": "python",
   "nbconvert_exporter": "python",
   "pygments_lexer": "ipython3",
   "version": "3.10.0"
  }
 },
 "nbformat": 4,
 "nbformat_minor": 5
}
