{
 "cells": [
  {
   "cell_type": "code",
   "execution_count": 83,
   "id": "ef58a292",
   "metadata": {},
   "outputs": [],
   "source": [
    "## Setup and Imports\n",
    "\n",
    "import pandas as pd\n",
    "import numpy as np\n",
    "from vaderSentiment.vaderSentiment import SentimentIntensityAnalyzer\n",
    "import os"
   ]
  },
  {
   "cell_type": "code",
   "execution_count": 3,
   "id": "34884b42",
   "metadata": {},
   "outputs": [
    {
     "name": "stdout",
     "output_type": "stream",
     "text": [
      "Sentiment Analysis Setup Complete!\n"
     ]
    }
   ],
   "source": [
    "# Create results directory if it doesn't exist\n",
    "os.makedirs('results', exist_ok=True)\n",
    "\n",
    "print(\"Sentiment Analysis Setup Complete!\")\n"
   ]
  },
  {
   "cell_type": "code",
   "execution_count": 89,
   "id": "a567fda2",
   "metadata": {},
   "outputs": [
    {
     "name": "stdout",
     "output_type": "stream",
     "text": [
      "Loaded 1200 reviews from cleaned data\n",
      "Data shape: (1200, 6)\n",
      "Required columns present: [False]\n"
     ]
    }
   ],
   "source": [
    "# Load the preprocessed data\n",
    "try:\n",
    "    df = pd.read_csv('cleaned_reviews.csv')\n",
    "    print(f\"Loaded {len(df)} reviews from cleaned data\")\n",
    "except FileNotFoundError:\n",
    "    print(\"Cleaned reviews file not found. Loading raw data...\")\n",
    "    df = pd.read_csv('data/raw_reviews.csv')  # Adjust path as needed\n",
    "    \n",
    "    # Basic cleaning\n",
    "    df = df.dropna(subset=['review_text'])\n",
    "    df['review_text'] = df['review_text'].astype(str)\n",
    "    if 'rating' in df.columns:\n",
    "        df['rating'] = pd.to_numeric(df['rating'], errors='coerce')\n",
    "        df = df.dropna(subset=['rating'])\n",
    "\n",
    "print(\"Data shape:\", df.shape)\n",
    "print(\"Required columns present:\", ['review_text' in df.columns])"
   ]
  },
  {
   "cell_type": "code",
   "execution_count": 86,
   "id": "54dc1dcd",
   "metadata": {},
   "outputs": [
    {
     "name": "stdout",
     "output_type": "stream",
     "text": [
      "Index(['review_id', 'review', 'rating', 'date', 'bank', 'source'], dtype='object')\n"
     ]
    }
   ],
   "source": [
    "print(df.columns)"
   ]
  },
  {
   "cell_type": "code",
   "execution_count": 90,
   "id": "428edb66",
   "metadata": {},
   "outputs": [],
   "source": [
    "df = pd.read_csv('cleaned_reviews.csv')\n",
    "df = df.rename(columns={'review': 'review_text'})"
   ]
  },
  {
   "cell_type": "code",
   "execution_count": 91,
   "id": "a6c52f08",
   "metadata": {},
   "outputs": [
    {
     "name": "stdout",
     "output_type": "stream",
     "text": [
      "Analyzing sentiment for all reviews...\n"
     ]
    }
   ],
   "source": [
    "# Initialize VADER analyzer\n",
    "analyzer = SentimentIntensityAnalyzer()\n",
    "\n",
    "def get_vader_sentiment(text):\n",
    "    \"\"\"Get VADER sentiment scores for a given text\"\"\"\n",
    "    if pd.isna(text) or text == \"\":\n",
    "        return {'pos': 0, 'neg': 0, 'neu': 1, 'compound': 0}\n",
    "    \n",
    "    scores = analyzer.polarity_scores(str(text))\n",
    "    return scores\n",
    "\n",
    "def classify_sentiment(compound_score):\n",
    "    \"\"\"Classify sentiment based on VADER compound score\"\"\"\n",
    "    if compound_score >= 0.05:\n",
    "        return 'positive'\n",
    "    elif compound_score <= -0.05:\n",
    "        return 'negative'\n",
    "    else:\n",
    "        return 'neutral'\n",
    "\n",
    "print(\"Analyzing sentiment for all reviews...\")"
   ]
  },
  {
   "cell_type": "code",
   "execution_count": 92,
   "id": "b89223e4",
   "metadata": {},
   "outputs": [
    {
     "name": "stdout",
     "output_type": "stream",
     "text": [
      "Sentiment analysis complete!\n",
      "Processed 1200 reviews\n",
      "Sentiment distribution:\n",
      "sentiment_label\n",
      "positive    661\n",
      "negative    332\n",
      "neutral     207\n",
      "Name: count, dtype: int64\n"
     ]
    }
   ],
   "source": [
    "# Apply sentiment analysis\n",
    "sentiment_results = df['review_text'].apply(get_vader_sentiment)\n",
    "\n",
    "# Extract individual scores\n",
    "df['sentiment_positive'] = sentiment_results.apply(lambda x: x['pos'])\n",
    "df['sentiment_negative'] = sentiment_results.apply(lambda x: x['neg']) \n",
    "df['sentiment_neutral'] = sentiment_results.apply(lambda x: x['neu'])\n",
    "df['sentiment_compound'] = sentiment_results.apply(lambda x: x['compound'])\n",
    "\n",
    "# Classify overall sentiment\n",
    "df['sentiment_label'] = df['sentiment_compound'].apply(classify_sentiment)\n",
    "\n",
    "print(\"Sentiment analysis complete!\")\n",
    "print(f\"Processed {len(df)} reviews\")\n",
    "print(f\"Sentiment distribution:\\n{df['sentiment_label'].value_counts()}\")\n"
   ]
  },
  {
   "cell_type": "code",
   "execution_count": 95,
   "id": "c073e82d",
   "metadata": {},
   "outputs": [
    {
     "name": "stdout",
     "output_type": "stream",
     "text": [
      "\n",
      "Sentiment aggregation by bank:\n",
      "                             avg_compound  review_count  avg_positive  \\\n",
      "bank                                                                    \n",
      "Bank of Abyssinia                  -0.032           400         0.109   \n",
      "Commercial Bank of Ethiopia         0.163           400         0.134   \n",
      "Dashen Bank                         0.456           400         0.351   \n",
      "\n",
      "                             avg_negative  avg_neutral  \n",
      "bank                                                    \n",
      "Bank of Abyssinia                   0.108        0.783  \n",
      "Commercial Bank of Ethiopia         0.068        0.798  \n",
      "Dashen Bank                         0.024        0.625  \n",
      "\n",
      "Sentiment count by bank:\n",
      "sentiment_label              negative  neutral  positive\n",
      "bank                                                    \n",
      "Bank of Abyssinia                 175       78       147\n",
      "Commercial Bank of Ethiopia       132       47       221\n",
      "Dashen Bank                        25       82       293\n"
     ]
    }
   ],
   "source": [
    "# Aggregate sentiment by bank\n",
    "if 'bank' in df.columns:\n",
    "    print(\"\\nSentiment aggregation by bank:\")\n",
    "    bank_sentiment = df.groupby('bank').agg({\n",
    "        'sentiment_compound': ['mean', 'count'],\n",
    "        'sentiment_positive': 'mean',\n",
    "        'sentiment_negative': 'mean',\n",
    "        'sentiment_neutral': 'mean'\n",
    "    }).round(3)\n",
    "    \n",
    "    bank_sentiment.columns = ['avg_compound', 'review_count', 'avg_positive', 'avg_negative', 'avg_neutral']\n",
    "    print(bank_sentiment)\n",
    "    \n",
    "    # Sentiment distribution by bank\n",
    "    bank_sentiment_dist = pd.crosstab(df['bank'], df['sentiment_label'])\n",
    "    print(\"\\nSentiment count by bank:\")\n",
    "    print(bank_sentiment_dist)\n",
    "else:\n",
    "    print(\"Bank column not found, skipping bank aggregation\")"
   ]
  },
  {
   "cell_type": "code",
   "execution_count": 98,
   "id": "42cde935",
   "metadata": {},
   "outputs": [
    {
     "name": "stdout",
     "output_type": "stream",
     "text": [
      "\n",
      "Sentiment aggregation by rating:\n",
      "        avg_compound  review_count  avg_positive  avg_negative  avg_neutral\n",
      "rating                                                                     \n",
      "1             -0.196           416         0.063         0.128        0.809\n",
      "2             -0.012            87         0.089         0.088        0.824\n",
      "3              0.191           111         0.115         0.063        0.822\n",
      "4              0.400           114         0.192         0.041        0.767\n",
      "5              0.531           472         0.359         0.015        0.626\n",
      "\n",
      "1-star reviews sentiment summary:\n",
      "Count: 416\n",
      "Mean sentiment: -0.196\n",
      "Sentiment distribution: {'negative': 232, 'positive': 104, 'neutral': 80}\n"
     ]
    }
   ],
   "source": [
    "# Aggregate sentiment by rating\n",
    "if 'rating' in df.columns:\n",
    "    print(\"\\nSentiment aggregation by rating:\")\n",
    "    rating_sentiment = df.groupby('rating').agg({\n",
    "        'sentiment_compound': ['mean', 'count'],\n",
    "        'sentiment_positive': 'mean', \n",
    "        'sentiment_negative': 'mean',\n",
    "        'sentiment_neutral': 'mean'\n",
    "    }).round(3)\n",
    "    \n",
    "    rating_sentiment.columns = ['avg_compound', 'review_count', 'avg_positive', 'avg_negative', 'avg_neutral']\n",
    "    print(rating_sentiment)\n",
    "       # Special focus on 1-star reviews as mentioned in task\n",
    "    one_star_reviews = df[df['rating'] == 1]\n",
    "    if len(one_star_reviews) > 0:\n",
    "        print(f\"\\n1-star reviews sentiment summary:\")\n",
    "        print(f\"Count: {len(one_star_reviews)}\")\n",
    "        print(f\"Mean sentiment: {one_star_reviews['sentiment_compound'].mean():.3f}\")\n",
    "        print(f\"Sentiment distribution: {one_star_reviews['sentiment_label'].value_counts().to_dict()}\")\n",
    "else:\n",
    "    print(\"Rating column not found, skipping rating aggregation\")"
   ]
  },
  {
   "cell_type": "code",
   "execution_count": 99,
   "id": "29a527b0",
   "metadata": {},
   "outputs": [],
   "source": [
    "## Save Sentiment Results\n",
    "# Add review_id if not present\n",
    "if 'review_id' not in df.columns:\n",
    "    df['review_id'] = range(1, len(df) + 1)\n",
    "\n",
    "# Prepare sentiment output\n",
    "sentiment_output = df[[\n",
    "    'review_id', \n",
    "    'review_text', \n",
    "    'sentiment_label', \n",
    "    'sentiment_compound',\n",
    "    'sentiment_positive',\n",
    "    'sentiment_negative', \n",
    "    'sentiment_neutral'\n",
    "]].copy()"
   ]
  },
  {
   "cell_type": "code",
   "execution_count": 101,
   "id": "5022b8c5",
   "metadata": {},
   "outputs": [
    {
     "name": "stdout",
     "output_type": "stream",
     "text": [
      "\n",
      "Sentiment results saved to 'results/sentiment_analysis_results.csv'\n",
      "Output shape: (1200, 8)\n"
     ]
    }
   ],
   "source": [
    "# Add bank and rating if available\n",
    "if 'bank_name' in df.columns:\n",
    "    sentiment_output['bank_name'] = df['bank_name']\n",
    "if 'rating' in df.columns:\n",
    "    sentiment_output['rating'] = df['rating']\n",
    "\n",
    "# Save sentiment results\n",
    "import os\n",
    "os.makedirs('results', exist_ok=True)\n",
    "\n",
    "# Now save the file\n",
    "sentiment_output.to_csv('results/sentiment_analysis_results.csv', index=False)\n",
    "print(f\"\\nSentiment results saved to 'results/sentiment_analysis_results.csv'\")\n",
    "print(f\"Output shape: {sentiment_output.shape}\")"
   ]
  },
  {
   "cell_type": "code",
   "execution_count": 102,
   "id": "eb111548",
   "metadata": {},
   "outputs": [
    {
     "name": "stdout",
     "output_type": "stream",
     "text": [
      "\n",
      "Sentiment Analysis Coverage: 1200/1200 (100.0%)\n",
      "✅ KPI Met: Sentiment scores for 90%+ reviews\n"
     ]
    }
   ],
   "source": [
    "# Calculate coverage\n",
    "total_reviews = len(df)\n",
    "successful_sentiment = len(df[df['sentiment_label'].notna()])\n",
    "coverage_percentage = (successful_sentiment / total_reviews) * 100\n",
    "\n",
    "print(f\"\\nSentiment Analysis Coverage: {successful_sentiment}/{total_reviews} ({coverage_percentage:.1f}%)\")\n",
    "print(\"✅ KPI Met: Sentiment scores for 90%+ reviews\" if coverage_percentage >= 90 else \"❌ KPI Not Met: Coverage below 90%\")"
   ]
  },
  {
   "cell_type": "code",
   "execution_count": 103,
   "id": "625c6c6e",
   "metadata": {},
   "outputs": [
    {
     "name": "stdout",
     "output_type": "stream",
     "text": [
      "\n",
      "==================================================\n",
      "SENTIMENT ANALYSIS SUMMARY\n",
      "==================================================\n",
      "Total reviews processed: 1,200\n",
      "Sentiment analysis coverage: 100.0%\n",
      "\n",
      "Overall sentiment distribution:\n",
      "  Positive: 661 (55.1%)\n",
      "  Negative: 332 (27.7%)\n",
      "  Neutral: 207 (17.2%)\n",
      "\n",
      "Average sentiment scores:\n",
      "  Compound: 0.196\n",
      "  Positive: 0.198\n",
      "  Negative: 0.067\n",
      "  Neutral: 0.735\n",
      "\n",
      "Rating-Sentiment correlation: 0.592\n",
      "\n",
      "✅ Sentiment Analysis Complete!\n"
     ]
    }
   ],
   "source": [
    "print(\"\\n\" + \"=\"*50)\n",
    "print(\"SENTIMENT ANALYSIS SUMMARY\")\n",
    "print(\"=\"*50)\n",
    "\n",
    "print(f\"Total reviews processed: {len(df):,}\")\n",
    "print(f\"Sentiment analysis coverage: {coverage_percentage:.1f}%\")\n",
    "\n",
    "print(f\"\\nOverall sentiment distribution:\")\n",
    "for sentiment, count in df['sentiment_label'].value_counts().items():\n",
    "    percentage = (count / len(df)) * 100\n",
    "    print(f\"  {sentiment.title()}: {count:,} ({percentage:.1f}%)\")\n",
    "\n",
    "print(f\"\\nAverage sentiment scores:\")\n",
    "print(f\"  Compound: {df['sentiment_compound'].mean():.3f}\")\n",
    "print(f\"  Positive: {df['sentiment_positive'].mean():.3f}\")\n",
    "print(f\"  Negative: {df['sentiment_negative'].mean():.3f}\")\n",
    "print(f\"  Neutral: {df['sentiment_neutral'].mean():.3f}\")\n",
    "\n",
    "if 'rating' in df.columns:\n",
    "    print(f\"\\nRating-Sentiment correlation: {df['rating'].corr(df['sentiment_compound']):.3f}\")\n",
    "\n",
    "print(\"\\n✅ Sentiment Analysis Complete!\")"
   ]
  }
 ],
 "metadata": {
  "kernelspec": {
   "display_name": "venv",
   "language": "python",
   "name": "python3"
  },
  "language_info": {
   "codemirror_mode": {
    "name": "ipython",
    "version": 3
   },
   "file_extension": ".py",
   "mimetype": "text/x-python",
   "name": "python",
   "nbconvert_exporter": "python",
   "pygments_lexer": "ipython3",
   "version": "3.10.0"
  }
 },
 "nbformat": 4,
 "nbformat_minor": 5
}
