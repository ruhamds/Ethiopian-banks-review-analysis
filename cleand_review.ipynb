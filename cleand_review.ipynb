{
 "cells": [
  {
   "cell_type": "code",
   "execution_count": 1,
   "id": "1865df78",
   "metadata": {},
   "outputs": [
    {
     "name": "stdout",
     "output_type": "stream",
     "text": [
      "Combining raw review files...\n",
      "Preprocessing data...\n",
      "Total reviews after preprocessing: 1200\n",
      "Missing data:\n",
      "review_id    0\n",
      "review       0\n",
      "rating       0\n",
      "date         0\n",
      "bank         0\n",
      "source       0\n",
      "dtype: int64\n",
      "Reviews per bank:\n",
      "bank\n",
      "Bank of Abyssinia              400\n",
      "Commercial Bank of Ethiopia    400\n",
      "Dashen Bank                    400\n",
      "Name: count, dtype: int64\n"
     ]
    }
   ],
   "source": [
    "# preprocess_reviews.py\n",
    "import pandas as pd\n",
    "import os\n",
    "from datetime import datetime\n",
    "\n",
    "# Directory containing raw CSV files\n",
    "input_dir = 'raw_data'\n",
    "output_file = 'cleaned_reviews.csv'\n",
    "\n",
    "# Combine all raw CSV files\n",
    "def combine_reviews(input_dir):\n",
    "    all_data = []\n",
    "    for file_name in os.listdir(input_dir):\n",
    "        if file_name.startswith('raw_reviews_') and file_name.endswith('.csv'):\n",
    "            file_path = os.path.join(input_dir, file_name)\n",
    "            df = pd.read_csv(file_path)\n",
    "            all_data.append(df)\n",
    "    if all_data:\n",
    "        return pd.concat(all_data, ignore_index=True)\n",
    "    else:\n",
    "        raise ValueError(\"No raw review CSV files found in raw_data/\")\n",
    "\n",
    "# Preprocess the combined data\n",
    "def preprocess_reviews(df):\n",
    "    # Step 1: Remove duplicates based on review_id\n",
    "    df = df.drop_duplicates(subset='review_id', keep='first')\n",
    "    \n",
    "    # Step 2: Handle missing data\n",
    "    df = df.dropna(subset=['review', 'rating'])\n",
    "    \n",
    "    # Step 3: Normalize dates to YYYY-MM-DD\n",
    "    df['date'] = pd.to_datetime(df['date']).dt.strftime('%Y-%m-%d')\n",
    "    \n",
    "    # Step 4: Ensure rating is an integer (1-5)\n",
    "    df['rating'] = df['rating'].astype(int)\n",
    "    df = df[df['rating'].between(1, 5)]\n",
    "    \n",
    "    # Step 5: Clean review text (remove extra whitespace)\n",
    "    df['review'] = df['review'].str.strip()\n",
    "    \n",
    "    return df\n",
    "\n",
    "# Main function\n",
    "def main():\n",
    "    print(\"Combining raw review files...\")\n",
    "    combined_df = combine_reviews(input_dir)\n",
    "    \n",
    "    print(\"Preprocessing data...\")\n",
    "    cleaned_df = preprocess_reviews(combined_df)\n",
    "    \n",
    "    # Save cleaned data\n",
    "    cleaned_df.to_csv(output_file, index=False)\n",
    "    \n",
    "    # Print summary\n",
    "    print(f\"Total reviews after preprocessing: {len(cleaned_df)}\")\n",
    "    print(f\"Missing data:\\n{cleaned_df.isnull().sum()}\")\n",
    "    print(f\"Reviews per bank:\\n{cleaned_df['bank'].value_counts()}\")\n",
    "\n",
    "if __name__ == \"__main__\":\n",
    "    main()"
   ]
  }
 ],
 "metadata": {
  "kernelspec": {
   "display_name": "venv",
   "language": "python",
   "name": "python3"
  },
  "language_info": {
   "codemirror_mode": {
    "name": "ipython",
    "version": 3
   },
   "file_extension": ".py",
   "mimetype": "text/x-python",
   "name": "python",
   "nbconvert_exporter": "python",
   "pygments_lexer": "ipython3",
   "version": "3.10.0"
  }
 },
 "nbformat": 4,
 "nbformat_minor": 5
}
